{
  "cells": [
    {
      "attachments": {},
      "cell_type": "markdown",
      "metadata": {},
      "source": [
        "`63070501061 S.RAKNA`\n",
        "\n",
        "> 10 points. 1 hrs. \n",
        "\n",
        "# KNN (K nearest neighbor) for 3 Classes\n",
        "Modify the provided program for KNN with 2 random red/blue classes shown in class to have **3 classes of red/blue/yellow** instead. Then use **K = 4** to classify a randomly generated sample as red, yellow, or blue."
      ]
    },
    {
      "cell_type": "code",
      "execution_count": 1,
      "metadata": {
        "id": "O6-zL7SyE1EK"
      },
      "outputs": [],
      "source": [
        "import cv2 as cv\n",
        "import matplotlib.pyplot as plt\n",
        "import numpy as np"
      ]
    },
    {
      "cell_type": "markdown",
      "metadata": {
        "id": "IMkO5UEyHMYN"
      },
      "source": [
        "#Create Training"
      ]
    },
    {
      "cell_type": "code",
      "execution_count": 2,
      "metadata": {
        "id": "WKDL-RC_HRAy"
      },
      "outputs": [],
      "source": [
        "# Feature set containing 25 * 2 for 80 (x,y) values of known/training data that are random integers 0-99\n",
        "trainData = np.random.randint(0, 100, (80, 2)).astype(np.float32)\n",
        "# Label each one either Red or Blue with numbers 0 and 1. Response is a random integers 0-1 of 80 * 1 values\n",
        "responses = np.random.randint(0, 3, (80, 1)).astype(\n",
        "    np.float32)  # responses 25 x 1 matrix\n"
      ]
    },
    {
      "cell_type": "code",
      "execution_count": 3,
      "metadata": {
        "colab": {
          "base_uri": "https://localhost:8080/"
        },
        "id": "8_xZoVxwHTm6",
        "outputId": "3050a125-2636-4c0c-a4dc-4fde2cfbbd31"
      },
      "outputs": [
        {
          "name": "stdout",
          "output_type": "stream",
          "text": [
            "Training Data:\n",
            " [[80. 92.]\n",
            " [47. 33.]\n",
            " [24. 64.]\n",
            " [65.  9.]\n",
            " [26. 88.]\n",
            " [56. 55.]\n",
            " [17. 74.]\n",
            " [14. 97.]\n",
            " [59. 67.]\n",
            " [44. 29.]\n",
            " [23.  9.]\n",
            " [31. 99.]\n",
            " [31. 42.]\n",
            " [69. 88.]\n",
            " [ 5. 11.]\n",
            " [88. 64.]\n",
            " [50. 57.]\n",
            " [82. 55.]\n",
            " [70. 23.]\n",
            " [28. 71.]\n",
            " [66. 68.]\n",
            " [ 3. 51.]\n",
            " [54. 48.]\n",
            " [76. 29.]\n",
            " [81.  4.]\n",
            " [65. 43.]\n",
            " [68. 30.]\n",
            " [94. 90.]\n",
            " [53. 38.]\n",
            " [67. 36.]\n",
            " [22. 42.]\n",
            " [17. 38.]\n",
            " [62. 63.]\n",
            " [29. 53.]\n",
            " [29. 96.]\n",
            " [65. 26.]\n",
            " [22. 64.]\n",
            " [39. 98.]\n",
            " [82. 76.]\n",
            " [35. 46.]\n",
            " [67. 97.]\n",
            " [83. 59.]\n",
            " [52. 78.]\n",
            " [21. 99.]\n",
            " [26. 67.]\n",
            " [29. 96.]\n",
            " [81. 32.]\n",
            " [24.  7.]\n",
            " [88. 34.]\n",
            " [91. 30.]\n",
            " [38. 57.]\n",
            " [ 3. 89.]\n",
            " [55. 38.]\n",
            " [69. 84.]\n",
            " [47. 97.]\n",
            " [80. 98.]\n",
            " [32. 66.]\n",
            " [ 0. 74.]\n",
            " [38. 65.]\n",
            " [30. 48.]\n",
            " [32. 36.]\n",
            " [ 9. 18.]\n",
            " [ 1.  4.]\n",
            " [84. 88.]\n",
            " [82. 42.]\n",
            " [18. 36.]\n",
            " [58. 13.]\n",
            " [95. 54.]\n",
            " [19.  1.]\n",
            " [24. 31.]\n",
            " [94. 97.]\n",
            " [52. 85.]\n",
            " [ 1. 37.]\n",
            " [52. 72.]\n",
            " [68. 80.]\n",
            " [54. 55.]\n",
            " [80. 19.]\n",
            " [29. 98.]\n",
            " [ 9. 44.]\n",
            " [51. 30.]]\n",
            "\n",
            " Responses:\n",
            " [[1.]\n",
            " [2.]\n",
            " [2.]\n",
            " [1.]\n",
            " [2.]\n",
            " [1.]\n",
            " [0.]\n",
            " [2.]\n",
            " [2.]\n",
            " [1.]\n",
            " [0.]\n",
            " [1.]\n",
            " [0.]\n",
            " [1.]\n",
            " [2.]\n",
            " [0.]\n",
            " [0.]\n",
            " [0.]\n",
            " [0.]\n",
            " [2.]\n",
            " [2.]\n",
            " [0.]\n",
            " [1.]\n",
            " [2.]\n",
            " [0.]\n",
            " [2.]\n",
            " [0.]\n",
            " [0.]\n",
            " [0.]\n",
            " [0.]\n",
            " [1.]\n",
            " [1.]\n",
            " [1.]\n",
            " [0.]\n",
            " [1.]\n",
            " [2.]\n",
            " [2.]\n",
            " [1.]\n",
            " [1.]\n",
            " [1.]\n",
            " [1.]\n",
            " [0.]\n",
            " [0.]\n",
            " [1.]\n",
            " [0.]\n",
            " [0.]\n",
            " [0.]\n",
            " [0.]\n",
            " [0.]\n",
            " [2.]\n",
            " [2.]\n",
            " [0.]\n",
            " [1.]\n",
            " [1.]\n",
            " [1.]\n",
            " [1.]\n",
            " [2.]\n",
            " [2.]\n",
            " [1.]\n",
            " [2.]\n",
            " [0.]\n",
            " [2.]\n",
            " [0.]\n",
            " [1.]\n",
            " [0.]\n",
            " [2.]\n",
            " [1.]\n",
            " [0.]\n",
            " [2.]\n",
            " [0.]\n",
            " [1.]\n",
            " [1.]\n",
            " [2.]\n",
            " [0.]\n",
            " [2.]\n",
            " [1.]\n",
            " [0.]\n",
            " [2.]\n",
            " [2.]\n",
            " [1.]]\n",
            "Responses Ravel or flattened as 1-D:\n",
            " [1. 2. 2. 1. 2. 1. 0. 2. 2. 1. 0. 1. 0. 1. 2. 0. 0. 0. 0. 2. 2. 0. 1. 2.\n",
            " 0. 2. 0. 0. 0. 0. 1. 1. 1. 0. 1. 2. 2. 1. 1. 1. 1. 0. 0. 1. 0. 0. 0. 0.\n",
            " 0. 2. 2. 0. 1. 1. 1. 1. 2. 2. 1. 2. 0. 2. 0. 1. 0. 2. 1. 0. 2. 0. 1. 1.\n",
            " 2. 0. 2. 1. 0. 2. 2. 1.]\n",
            "Red Responses: \n",
            "  [False False False False False False  True False False False  True False\n",
            "  True False False  True  True  True  True False False  True False False\n",
            "  True False  True  True  True  True False False False  True False False\n",
            " False False False False False  True  True False  True  True  True  True\n",
            "  True False False  True False False False False False False False False\n",
            "  True False  True False  True False False  True False  True False False\n",
            " False  True False False  True False False False]\n"
          ]
        }
      ],
      "source": [
        "print (\"Training Data:\\n\", trainData)\n",
        "print(\"\\n Responses:\\n\", responses)\n",
        "print(\"Responses Ravel or flattened as 1-D:\\n\", responses.ravel()) #Method .ravel flattens the np array to 1-D. \n",
        "print(\"Red Responses: \\n \", responses.ravel()== 0) #color 0 is \"Red\", color 1 is blue"
      ]
    },
    {
      "cell_type": "code",
      "execution_count": 4,
      "metadata": {
        "colab": {
          "base_uri": "https://localhost:8080/"
        },
        "id": "fKv3mgzvHW4m",
        "outputId": "3b5f0134-9131-4f1d-8b97-bceb5af07876"
      },
      "outputs": [
        {
          "name": "stdout",
          "output_type": "stream",
          "text": [
            "[[17. 74.]\n",
            " [23.  9.]\n",
            " [31. 42.]\n",
            " [88. 64.]\n",
            " [50. 57.]\n",
            " [82. 55.]\n",
            " [70. 23.]\n",
            " [ 3. 51.]\n",
            " [81.  4.]\n",
            " [68. 30.]\n",
            " [94. 90.]\n",
            " [53. 38.]\n",
            " [67. 36.]\n",
            " [29. 53.]\n",
            " [83. 59.]\n",
            " [52. 78.]\n",
            " [26. 67.]\n",
            " [29. 96.]\n",
            " [81. 32.]\n",
            " [24.  7.]\n",
            " [88. 34.]\n",
            " [ 3. 89.]\n",
            " [32. 36.]\n",
            " [ 1.  4.]\n",
            " [82. 42.]\n",
            " [95. 54.]\n",
            " [24. 31.]\n",
            " [52. 72.]\n",
            " [80. 19.]]\n"
          ]
        }
      ],
      "source": [
        "# Make red and blue and yellow points\n",
        "# red is now trained data with responses of 0\n",
        "red = trainData[responses.ravel() == 0]\n",
        "print(red)\n"
      ]
    },
    {
      "cell_type": "code",
      "execution_count": 5,
      "metadata": {
        "colab": {
          "base_uri": "https://localhost:8080/"
        },
        "id": "RVIMfCeyHc44",
        "outputId": "e02f191c-bca0-461f-9d05-47472209de62"
      },
      "outputs": [
        {
          "name": "stdout",
          "output_type": "stream",
          "text": [
            "[[80. 92.]\n",
            " [65.  9.]\n",
            " [56. 55.]\n",
            " [44. 29.]\n",
            " [31. 99.]\n",
            " [69. 88.]\n",
            " [54. 48.]\n",
            " [22. 42.]\n",
            " [17. 38.]\n",
            " [62. 63.]\n",
            " [29. 96.]\n",
            " [39. 98.]\n",
            " [82. 76.]\n",
            " [35. 46.]\n",
            " [67. 97.]\n",
            " [21. 99.]\n",
            " [55. 38.]\n",
            " [69. 84.]\n",
            " [47. 97.]\n",
            " [80. 98.]\n",
            " [38. 65.]\n",
            " [84. 88.]\n",
            " [58. 13.]\n",
            " [94. 97.]\n",
            " [52. 85.]\n",
            " [54. 55.]\n",
            " [51. 30.]]\n"
          ]
        }
      ],
      "source": [
        "# blue is now the trained data with responses of 1\n",
        "blue = trainData[responses.ravel() == 1]\n",
        "print(blue)\n"
      ]
    },
    {
      "cell_type": "code",
      "execution_count": 6,
      "metadata": {},
      "outputs": [
        {
          "name": "stdout",
          "output_type": "stream",
          "text": [
            "[[47. 33.]\n",
            " [24. 64.]\n",
            " [26. 88.]\n",
            " [14. 97.]\n",
            " [59. 67.]\n",
            " [ 5. 11.]\n",
            " [28. 71.]\n",
            " [66. 68.]\n",
            " [76. 29.]\n",
            " [65. 43.]\n",
            " [65. 26.]\n",
            " [22. 64.]\n",
            " [91. 30.]\n",
            " [38. 57.]\n",
            " [32. 66.]\n",
            " [ 0. 74.]\n",
            " [30. 48.]\n",
            " [ 9. 18.]\n",
            " [18. 36.]\n",
            " [19.  1.]\n",
            " [ 1. 37.]\n",
            " [68. 80.]\n",
            " [29. 98.]\n",
            " [ 9. 44.]]\n"
          ]
        }
      ],
      "source": [
        "# yellow is now the trained data with responses of 2\n",
        "yellow = trainData[responses.ravel() == 2]\n",
        "print(yellow)"
      ]
    },
    {
      "cell_type": "code",
      "execution_count": 7,
      "metadata": {
        "colab": {
          "base_uri": "https://localhost:8080/",
          "height": 265
        },
        "id": "8UBVmMQ_Hhhi",
        "outputId": "9c1a23fb-9561-460c-9641-158eea45da1c"
      },
      "outputs": [
        {
          "data": {
            "image/png": "[encoded data removed]",
            "text/plain": [
              "<Figure size 640x480 with 1 Axes>"
            ]
          },
          "metadata": {},
          "output_type": "display_data"
        }
      ],
      "source": [
        "# matplotlib.pyplot.scatter(x, y, s=None, c=None, marker=None, ...)\n",
        "plt.scatter(red[:, 0], red[:, 1], 80, 'r', '^')  # size 80, red, triangle\n",
        "plt.scatter(blue[:, 0], blue[:, 1], 80, 'b', 's')  # size 80, blue, square\n",
        "plt.scatter(yellow[:, 0], yellow[:, 1], 80, 'y', 'o')  # size 80, yellow, circle\n",
        "plt.show()\n"
      ]
    },
    {
      "cell_type": "markdown",
      "metadata": {
        "id": "QG4sK2AKHjqo"
      },
      "source": [
        "#Test Unknown Data"
      ]
    },
    {
      "cell_type": "code",
      "execution_count": 8,
      "metadata": {
        "colab": {
          "base_uri": "https://localhost:8080/"
        },
        "id": "yNrrNSejHnj-",
        "outputId": "bc2e6701-fa61-470b-bfd4-7ce9801ebdbb"
      },
      "outputs": [
        {
          "name": "stdout",
          "output_type": "stream",
          "text": [
            "[[46. 24.]]\n"
          ]
        }
      ],
      "source": [
        "# create 1 * 2 or 1 (x,y) value with random integer 0-99\n",
        "newcomer = np.random.randint(0, 100, (1, 2)).astype(np.float32)\n",
        "print(newcomer)\n"
      ]
    },
    {
      "cell_type": "code",
      "execution_count": 9,
      "metadata": {
        "colab": {
          "base_uri": "https://localhost:8080/",
          "height": 265
        },
        "id": "UBZpm3KiJprO",
        "outputId": "2e540448-3419-40c6-cc76-4c6a3a9c8b0c"
      },
      "outputs": [
        {
          "data": {
            "image/png": "[encoded data removed]",
            "text/plain": [
              "<Figure size 640x480 with 1 Axes>"
            ]
          },
          "metadata": {},
          "output_type": "display_data"
        }
      ],
      "source": [
        "plt.scatter(red[:, 0], red[:, 1], 80, 'r', '^')  # red, triangle\n",
        "plt.scatter(blue[:, 0], blue[:, 1], 80, 'b', 's')  # blue, square\n",
        "plt.scatter(yellow[:, 0], yellow[:, 1], 80, 'y', 'o')  # yellow, circle\n",
        "plt.scatter(newcomer[:, 0], newcomer[:, 1], 80, 'g', 'x')  # green, cross\n",
        "plt.show()\n"
      ]
    },
    {
      "cell_type": "code",
      "execution_count": 10,
      "metadata": {
        "id": "JYA4emSNLBr7"
      },
      "outputs": [],
      "source": [
        "colorName = np.array(['Red', 'Blue', 'Yellow'])\n"
      ]
    },
    {
      "cell_type": "code",
      "execution_count": 11,
      "metadata": {
        "id": "R-9oyPmHHwKO"
      },
      "outputs": [],
      "source": [
        "knn = cv.ml.KNearest_create()\n",
        "knn.train(trainData, cv.ml.ROW_SAMPLE, responses)\n",
        "k = 4\n",
        "ret, results, neighbors, dist = knn.findNearest(newcomer, k)\n"
      ]
    },
    {
      "cell_type": "code",
      "execution_count": 12,
      "metadata": {
        "id": "I4LSqK1XLUNU"
      },
      "outputs": [],
      "source": [
        "resultColor = colorName[results[0].astype(int)]\n",
        "neighborColors = colorName[neighbors[0].astype(int)]\n"
      ]
    },
    {
      "cell_type": "code",
      "execution_count": 13,
      "metadata": {
        "colab": {
          "base_uri": "https://localhost:8080/"
        },
        "id": "Nbp90AohHxWK",
        "outputId": "9c793cde-94a8-4b31-b7ed-5d668fc620ae"
      },
      "outputs": [
        {
          "name": "stdout",
          "output_type": "stream",
          "text": [
            "result color:  ['Blue']\n",
            "\n",
            "neighbors:  [[1. 1. 2. 0.]]\n",
            "\n",
            "neighbor colors:  ['Blue' 'Blue' 'Yellow' 'Red']\n",
            "\n",
            "neighbor distances:  [ 29.  61.  82. 245.]\n",
            "\n"
          ]
        }
      ],
      "source": [
        "print(\"result color:  {}\\n\".format(resultColor))\n",
        "print(\"neighbors:  {}\\n\".format(neighbors))\n",
        "print(\"neighbor colors:  {}\\n\".format(neighborColors))\n",
        "print(\"neighbor distances:  {}\\n\".format(dist[0]))\n"
      ]
    }
  ],
  "metadata": {
    "colab": {
      "provenance": []
    },
    "kernelspec": {
      "display_name": "Python 3",
      "language": "python",
      "name": "python3"
    },
    "language_info": {
      "codemirror_mode": {
        "name": "ipython",
        "version": 3
      },
      "file_extension": ".py",
      "mimetype": "text/x-python",
      "name": "python",
      "nbconvert_exporter": "python",
      "pygments_lexer": "ipython3",
      "version": "3.9.6"
    },
    "vscode": {
      "interpreter": {
        "hash": "31f2aee4e71d21fbe5cf8b01ff0e069b9275f58929596ceb00d14d90e3e16cd6"
      }
    }
  },
  "nbformat": 4,
  "nbformat_minor": 0
}
