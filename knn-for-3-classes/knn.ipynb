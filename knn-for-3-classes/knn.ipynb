{
  "cells": [
    {
      "attachments": {},
      "cell_type": "markdown",
      "metadata": {},
      "source": [
        "`63070501061 S.RAKNA`\n",
        "\n",
        "> 10 points. 1 hrs. \n",
        "\n",
        "# KNN (K nearest neighbor) for 3 Classes\n",
        "Modify the provided program for KNN with 2 random red/blue classes shown in class to have **3 classes of red/blue/yellow** instead. Then use **K = 4** to classify a randomly generated sample as red, yellow, or blue."
      ]
    },
    {
      "cell_type": "code",
      "execution_count": 1,
      "metadata": {
        "id": "O6-zL7SyE1EK"
      },
      "outputs": [],
      "source": [
        "import cv2 as cv\n",
        "import matplotlib.pyplot as plt\n",
        "import numpy as np"
      ]
    },
    {
      "cell_type": "markdown",
      "metadata": {
        "id": "IMkO5UEyHMYN"
      },
      "source": [
        "#Create Training"
      ]
    },
    {
      "cell_type": "code",
      "execution_count": 2,
      "metadata": {
        "id": "WKDL-RC_HRAy"
      },
      "outputs": [],
      "source": [
        "# Feature set containing 25 * 2 for 80 (x,y) values of known/training data that are random integers 0-99\n",
        "trainData = np.random.randint(0, 100, (80, 2)).astype(np.float32)\n",
        "# Label each one either Red or Blue with numbers 0 and 1. Response is a random integers 0-1 of 80 * 1 values\n",
        "responses = np.random.randint(0, 3, (80, 1)).astype(\n",
        "    np.float32)  # responses 25 x 1 matrix\n"
      ]
    },
    {
      "cell_type": "code",
      "execution_count": 3,
      "metadata": {
        "colab": {
          "base_uri": "https://localhost:8080/"
        },
        "id": "8_xZoVxwHTm6",
        "outputId": "3050a125-2636-4c0c-a4dc-4fde2cfbbd31"
      },
      "outputs": [
        {
          "name": "stdout",
          "output_type": "stream",
          "text": [
            "Training Data:\n",
            " [[61. 21.]\n",
            " [94. 34.]\n",
            " [27. 67.]\n",
            " [66. 42.]\n",
            " [67. 54.]\n",
            " [85. 81.]\n",
            " [78. 59.]\n",
            " [74. 40.]\n",
            " [58. 91.]\n",
            " [26. 47.]\n",
            " [ 1. 21.]\n",
            " [59. 24.]\n",
            " [22. 81.]\n",
            " [16. 21.]\n",
            " [82. 29.]\n",
            " [29. 35.]\n",
            " [35. 63.]\n",
            " [88. 50.]\n",
            " [52. 74.]\n",
            " [84. 92.]\n",
            " [ 4. 58.]\n",
            " [18.  7.]\n",
            " [46. 48.]\n",
            " [95. 31.]\n",
            " [75. 43.]\n",
            " [25. 71.]\n",
            " [65. 87.]\n",
            " [55. 40.]\n",
            " [41. 89.]\n",
            " [43. 45.]\n",
            " [68. 33.]\n",
            " [60. 47.]\n",
            " [53. 59.]\n",
            " [19. 59.]\n",
            " [71. 30.]\n",
            " [13. 50.]\n",
            " [82. 74.]\n",
            " [56. 85.]\n",
            " [45.  2.]\n",
            " [98. 56.]\n",
            " [32. 49.]\n",
            " [35. 67.]\n",
            " [94. 48.]\n",
            " [83. 36.]\n",
            " [14. 22.]\n",
            " [63. 20.]\n",
            " [96. 75.]\n",
            " [ 9. 81.]\n",
            " [14. 97.]\n",
            " [37. 12.]\n",
            " [52. 95.]\n",
            " [16. 65.]\n",
            " [23. 54.]\n",
            " [12. 98.]\n",
            " [19. 83.]\n",
            " [17. 13.]\n",
            " [13. 37.]\n",
            " [66.  5.]\n",
            " [16. 93.]\n",
            " [65. 98.]\n",
            " [10. 65.]\n",
            " [45. 42.]\n",
            " [29. 64.]\n",
            " [12. 73.]\n",
            " [90. 69.]\n",
            " [72. 27.]\n",
            " [88. 87.]\n",
            " [96. 42.]\n",
            " [10.  3.]\n",
            " [93. 54.]\n",
            " [37. 61.]\n",
            " [17. 17.]\n",
            " [13. 15.]\n",
            " [87. 33.]\n",
            " [73. 58.]\n",
            " [12. 18.]\n",
            " [93. 75.]\n",
            " [82. 88.]\n",
            " [42. 41.]\n",
            " [ 7. 36.]]\n",
            "\n",
            " Responses:\n",
            " [[1.]\n",
            " [1.]\n",
            " [0.]\n",
            " [1.]\n",
            " [1.]\n",
            " [1.]\n",
            " [0.]\n",
            " [0.]\n",
            " [1.]\n",
            " [1.]\n",
            " [1.]\n",
            " [1.]\n",
            " [2.]\n",
            " [1.]\n",
            " [1.]\n",
            " [2.]\n",
            " [0.]\n",
            " [2.]\n",
            " [2.]\n",
            " [2.]\n",
            " [1.]\n",
            " [1.]\n",
            " [2.]\n",
            " [1.]\n",
            " [2.]\n",
            " [1.]\n",
            " [0.]\n",
            " [2.]\n",
            " [0.]\n",
            " [2.]\n",
            " [2.]\n",
            " [0.]\n",
            " [2.]\n",
            " [2.]\n",
            " [2.]\n",
            " [0.]\n",
            " [2.]\n",
            " [0.]\n",
            " [0.]\n",
            " [0.]\n",
            " [2.]\n",
            " [0.]\n",
            " [0.]\n",
            " [2.]\n",
            " [2.]\n",
            " [2.]\n",
            " [1.]\n",
            " [0.]\n",
            " [2.]\n",
            " [1.]\n",
            " [0.]\n",
            " [2.]\n",
            " [2.]\n",
            " [1.]\n",
            " [1.]\n",
            " [1.]\n",
            " [2.]\n",
            " [0.]\n",
            " [0.]\n",
            " [0.]\n",
            " [0.]\n",
            " [0.]\n",
            " [0.]\n",
            " [2.]\n",
            " [0.]\n",
            " [0.]\n",
            " [1.]\n",
            " [0.]\n",
            " [1.]\n",
            " [2.]\n",
            " [1.]\n",
            " [0.]\n",
            " [2.]\n",
            " [1.]\n",
            " [1.]\n",
            " [2.]\n",
            " [1.]\n",
            " [0.]\n",
            " [2.]\n",
            " [1.]]\n",
            "Responses Ravel or flattened as 1-D:\n",
            " [1. 1. 0. 1. 1. 1. 0. 0. 1. 1. 1. 1. 2. 1. 1. 2. 0. 2. 2. 2. 1. 1. 2. 1.\n",
            " 2. 1. 0. 2. 0. 2. 2. 0. 2. 2. 2. 0. 2. 0. 0. 0. 2. 0. 0. 2. 2. 2. 1. 0.\n",
            " 2. 1. 0. 2. 2. 1. 1. 1. 2. 0. 0. 0. 0. 0. 0. 2. 0. 0. 1. 0. 1. 2. 1. 0.\n",
            " 2. 1. 1. 2. 1. 0. 2. 1.]\n",
            "Red Responses: \n",
            "  [False False  True False False False  True  True False False False False\n",
            " False False False False  True False False False False False False False\n",
            " False False  True False  True False False  True False False False  True\n",
            " False  True  True  True False  True  True False False False False  True\n",
            " False False  True False False False False False False  True  True  True\n",
            "  True  True  True False  True  True False  True False False False  True\n",
            " False False False False False  True False False]\n"
          ]
        }
      ],
      "source": [
        "print (\"Training Data:\\n\", trainData)\n",
        "print(\"\\n Responses:\\n\", responses)\n",
        "print(\"Responses Ravel or flattened as 1-D:\\n\", responses.ravel()) #Method .ravel flattens the np array to 1-D. \n",
        "print(\"Red Responses: \\n \", responses.ravel()== 0) #color 0 is \"Red\", color 1 is blue"
      ]
    },
    {
      "cell_type": "code",
      "execution_count": 4,
      "metadata": {
        "colab": {
          "base_uri": "https://localhost:8080/"
        },
        "id": "fKv3mgzvHW4m",
        "outputId": "3b5f0134-9131-4f1d-8b97-bceb5af07876"
      },
      "outputs": [
        {
          "name": "stdout",
          "output_type": "stream",
          "text": [
            "[[27. 67.]\n",
            " [78. 59.]\n",
            " [74. 40.]\n",
            " [35. 63.]\n",
            " [65. 87.]\n",
            " [41. 89.]\n",
            " [60. 47.]\n",
            " [13. 50.]\n",
            " [56. 85.]\n",
            " [45.  2.]\n",
            " [98. 56.]\n",
            " [35. 67.]\n",
            " [94. 48.]\n",
            " [ 9. 81.]\n",
            " [52. 95.]\n",
            " [66.  5.]\n",
            " [16. 93.]\n",
            " [65. 98.]\n",
            " [10. 65.]\n",
            " [45. 42.]\n",
            " [29. 64.]\n",
            " [90. 69.]\n",
            " [72. 27.]\n",
            " [96. 42.]\n",
            " [17. 17.]\n",
            " [82. 88.]]\n"
          ]
        }
      ],
      "source": [
        "# Make red and blue and yellow points\n",
        "# red is now trained data with responses of 0\n",
        "red = trainData[responses.ravel() == 0]\n",
        "print(red)\n"
      ]
    },
    {
      "cell_type": "code",
      "execution_count": 5,
      "metadata": {
        "colab": {
          "base_uri": "https://localhost:8080/"
        },
        "id": "RVIMfCeyHc44",
        "outputId": "e02f191c-bca0-461f-9d05-47472209de62"
      },
      "outputs": [
        {
          "name": "stdout",
          "output_type": "stream",
          "text": [
            "[[61. 21.]\n",
            " [94. 34.]\n",
            " [66. 42.]\n",
            " [67. 54.]\n",
            " [85. 81.]\n",
            " [58. 91.]\n",
            " [26. 47.]\n",
            " [ 1. 21.]\n",
            " [59. 24.]\n",
            " [16. 21.]\n",
            " [82. 29.]\n",
            " [ 4. 58.]\n",
            " [18.  7.]\n",
            " [95. 31.]\n",
            " [25. 71.]\n",
            " [96. 75.]\n",
            " [37. 12.]\n",
            " [12. 98.]\n",
            " [19. 83.]\n",
            " [17. 13.]\n",
            " [88. 87.]\n",
            " [10.  3.]\n",
            " [37. 61.]\n",
            " [87. 33.]\n",
            " [73. 58.]\n",
            " [93. 75.]\n",
            " [ 7. 36.]]\n"
          ]
        }
      ],
      "source": [
        "# blue is now the trained data with responses of 1\n",
        "blue = trainData[responses.ravel() == 1]\n",
        "print(blue)\n"
      ]
    },
    {
      "cell_type": "code",
      "execution_count": 6,
      "metadata": {},
      "outputs": [
        {
          "name": "stdout",
          "output_type": "stream",
          "text": [
            "[[22. 81.]\n",
            " [29. 35.]\n",
            " [88. 50.]\n",
            " [52. 74.]\n",
            " [84. 92.]\n",
            " [46. 48.]\n",
            " [75. 43.]\n",
            " [55. 40.]\n",
            " [43. 45.]\n",
            " [68. 33.]\n",
            " [53. 59.]\n",
            " [19. 59.]\n",
            " [71. 30.]\n",
            " [82. 74.]\n",
            " [32. 49.]\n",
            " [83. 36.]\n",
            " [14. 22.]\n",
            " [63. 20.]\n",
            " [14. 97.]\n",
            " [16. 65.]\n",
            " [23. 54.]\n",
            " [13. 37.]\n",
            " [12. 73.]\n",
            " [93. 54.]\n",
            " [13. 15.]\n",
            " [12. 18.]\n",
            " [42. 41.]]\n"
          ]
        }
      ],
      "source": [
        "# yellow is now the trained data with responses of 2\n",
        "yellow = trainData[responses.ravel() == 2]\n",
        "print(yellow)"
      ]
    },
    {
      "cell_type": "code",
      "execution_count": 7,
      "metadata": {
        "colab": {
          "base_uri": "https://localhost:8080/",
          "height": 265
        },
        "id": "8UBVmMQ_Hhhi",
        "outputId": "9c1a23fb-9561-460c-9641-158eea45da1c"
      },
      "outputs": [
        {
          "data": {
            "image/png": "[encoded data removed]",
            "text/plain": [
              "<Figure size 640x480 with 1 Axes>"
            ]
          },
          "metadata": {},
          "output_type": "display_data"
        }
      ],
      "source": [
        "# matplotlib.pyplot.scatter(x, y, s=None, c=None, marker=None, ...)\n",
        "plt.scatter(red[:, 0], red[:, 1], 80, 'r', '^')  # size 80, red, triangle\n",
        "plt.scatter(blue[:, 0], blue[:, 1], 80, 'b', 's')  # size 80, blue, square\n",
        "plt.scatter(yellow[:, 0], yellow[:, 1], 80, 'y', 'o')  # size 80, yellow, circle\n",
        "plt.show()\n"
      ]
    },
    {
      "cell_type": "markdown",
      "metadata": {
        "id": "QG4sK2AKHjqo"
      },
      "source": [
        "#Test Unknown Data"
      ]
    },
    {
      "cell_type": "code",
      "execution_count": 8,
      "metadata": {
        "colab": {
          "base_uri": "https://localhost:8080/"
        },
        "id": "yNrrNSejHnj-",
        "outputId": "bc2e6701-fa61-470b-bfd4-7ce9801ebdbb"
      },
      "outputs": [
        {
          "name": "stdout",
          "output_type": "stream",
          "text": [
            "[[77. 60.]]\n"
          ]
        }
      ],
      "source": [
        "# create 1 * 2 or 1 (x,y) value with random integer 0-99\n",
        "newcomer = np.random.randint(0, 100, (1, 2)).astype(np.float32)\n",
        "print(newcomer)\n"
      ]
    },
    {
      "cell_type": "code",
      "execution_count": 9,
      "metadata": {
        "colab": {
          "base_uri": "https://localhost:8080/",
          "height": 265
        },
        "id": "UBZpm3KiJprO",
        "outputId": "2e540448-3419-40c6-cc76-4c6a3a9c8b0c"
      },
      "outputs": [
        {
          "data": {
            "image/png": "[encoded data removed]",
            "text/plain": [
              "<Figure size 640x480 with 1 Axes>"
            ]
          },
          "metadata": {},
          "output_type": "display_data"
        }
      ],
      "source": [
        "plt.scatter(red[:, 0], red[:, 1], 80, 'r', '^')  # red, triangle\n",
        "plt.scatter(blue[:, 0], blue[:, 1], 80, 'b', 's')  # blue, square\n",
        "plt.scatter(yellow[:, 0], yellow[:, 1], 80, 'y', 'o')  # yellow, circle\n",
        "plt.scatter(newcomer[:, 0], newcomer[:, 1], 80, 'g', 'x')  # green, cross\n",
        "plt.show()\n"
      ]
    },
    {
      "cell_type": "code",
      "execution_count": 10,
      "metadata": {
        "id": "JYA4emSNLBr7"
      },
      "outputs": [],
      "source": [
        "colorName = np.array(['Red', 'Blue', 'Yellow'])\n"
      ]
    },
    {
      "cell_type": "code",
      "execution_count": 11,
      "metadata": {
        "id": "R-9oyPmHHwKO"
      },
      "outputs": [],
      "source": [
        "knn = cv.ml.KNearest_create()\n",
        "knn.train(trainData, cv.ml.ROW_SAMPLE, responses)\n",
        "k = 4\n",
        "ret, results, neighbors, dist = knn.findNearest(newcomer, k)\n"
      ]
    },
    {
      "cell_type": "code",
      "execution_count": 12,
      "metadata": {
        "id": "I4LSqK1XLUNU"
      },
      "outputs": [],
      "source": [
        "resultColor = colorName[results[0].astype(int)]\n",
        "neighborColors = colorName[neighbors[0].astype(int)]\n"
      ]
    },
    {
      "cell_type": "code",
      "execution_count": 13,
      "metadata": {
        "colab": {
          "base_uri": "https://localhost:8080/"
        },
        "id": "Nbp90AohHxWK",
        "outputId": "9c793cde-94a8-4b31-b7ed-5d668fc620ae"
      },
      "outputs": [
        {
          "name": "stdout",
          "output_type": "stream",
          "text": [
            "result color:  ['Blue']\n",
            "\n",
            "neighbors:  [[0. 1. 1. 2.]]\n",
            "\n",
            "neighbor colors:  ['Red' 'Blue' 'Blue' 'Yellow']\n",
            "\n",
            "neighbor distances:  [  2.  20. 136. 221.]\n",
            "\n"
          ]
        }
      ],
      "source": [
        "print(\"result color:  {}\\n\".format(resultColor))\n",
        "print(\"neighbors:  {}\\n\".format(neighbors))\n",
        "print(\"neighbor colors:  {}\\n\".format(neighborColors))\n",
        "print(\"neighbor distances:  {}\\n\".format(dist[0]))\n"
      ]
    }
  ],
  "metadata": {
    "colab": {
      "provenance": []
    },
    "kernelspec": {
      "display_name": "Python 3",
      "language": "python",
      "name": "python3"
    },
    "language_info": {
      "codemirror_mode": {
        "name": "ipython",
        "version": 3
      },
      "file_extension": ".py",
      "mimetype": "text/x-python",
      "name": "python",
      "nbconvert_exporter": "python",
      "pygments_lexer": "ipython3",
      "version": "3.9.6 (default, Oct 18 2022, 12:41:40) \n[Clang 14.0.0 (clang-1400.0.29.202)]"
    },
    "vscode": {
      "interpreter": {
        "hash": "31f2aee4e71d21fbe5cf8b01ff0e069b9275f58929596ceb00d14d90e3e16cd6"
      }
    }
  },
  "nbformat": 4,
  "nbformat_minor": 0
}
