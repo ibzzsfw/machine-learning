{
 "cells": [
  {
   "attachments": {},
   "cell_type": "markdown",
   "metadata": {},
   "source": [
    "`63070501061 S.RAKNA`\n",
    "\n",
    "> 1 hr.\n",
    "\n",
    "# Try the *digits* datasets\n",
    "\n",
    "- Change the `Naive Bayes and KNN Iris and Cancer.ipynb` program to allow the user to also select the digits dataset by entering “digits”, in addition to “iris” and “cancer”. \n",
    "- Present the output results for both **Naive Bayes** and **KNN classifiers** using ***Sklearn***. \n",
    "- What is the best value of K in KNN?"
   ]
  },
  {
   "cell_type": "code",
   "execution_count": 1,
   "metadata": {},
   "outputs": [],
   "source": [
    "dataset_type = 'none'\n",
    "while dataset_type not in {'iris', 'cancer', 'digits'}:\n",
    "    dataset_type = input(\n",
    "        'Enter iris for the Iris dataset, cancer for the Breast Cancer dataset, and Digits for the Digits dataset: ')\n",
    "    if dataset_type not in {'iris', 'cancer', 'digits'}:\n",
    "        print(\"Invalid response: '%s'. Please try again.\" % dataset_type)\n"
   ]
  },
  {
   "cell_type": "code",
   "execution_count": 2,
   "metadata": {},
   "outputs": [],
   "source": [
    "from sklearn.datasets import load_iris, load_breast_cancer, load_digits\n",
    "if dataset_type == 'iris':\n",
    "    the_data = load_iris()  # get the data from sklearn\n",
    "if dataset_type == 'cancer':\n",
    "    the_data = load_breast_cancer()  # get the data from sklearn\n",
    "if dataset_type == 'digits':\n",
    "    the_data = load_digits()  # get the data from sklearn"
   ]
  },
  {
   "cell_type": "code",
   "execution_count": 3,
   "metadata": {},
   "outputs": [
    {
     "name": "stdout",
     "output_type": "stream",
     "text": [
      "\n",
      "The Entire Dataset \n",
      " {'data': array([[ 0.,  0.,  5., ...,  0.,  0.,  0.],\n",
      "       [ 0.,  0.,  0., ..., 10.,  0.,  0.],\n",
      "       [ 0.,  0.,  0., ..., 16.,  9.,  0.],\n",
      "       ...,\n",
      "       [ 0.,  0.,  1., ...,  6.,  0.,  0.],\n",
      "       [ 0.,  0.,  2., ..., 12.,  0.,  0.],\n",
      "       [ 0.,  0., 10., ..., 12.,  1.,  0.]]), 'target': array([0, 1, 2, ..., 8, 9, 8]), 'frame': None, 'feature_names': ['pixel_0_0', 'pixel_0_1', 'pixel_0_2', 'pixel_0_3', 'pixel_0_4', 'pixel_0_5', 'pixel_0_6', 'pixel_0_7', 'pixel_1_0', 'pixel_1_1', 'pixel_1_2', 'pixel_1_3', 'pixel_1_4', 'pixel_1_5', 'pixel_1_6', 'pixel_1_7', 'pixel_2_0', 'pixel_2_1', 'pixel_2_2', 'pixel_2_3', 'pixel_2_4', 'pixel_2_5', 'pixel_2_6', 'pixel_2_7', 'pixel_3_0', 'pixel_3_1', 'pixel_3_2', 'pixel_3_3', 'pixel_3_4', 'pixel_3_5', 'pixel_3_6', 'pixel_3_7', 'pixel_4_0', 'pixel_4_1', 'pixel_4_2', 'pixel_4_3', 'pixel_4_4', 'pixel_4_5', 'pixel_4_6', 'pixel_4_7', 'pixel_5_0', 'pixel_5_1', 'pixel_5_2', 'pixel_5_3', 'pixel_5_4', 'pixel_5_5', 'pixel_5_6', 'pixel_5_7', 'pixel_6_0', 'pixel_6_1', 'pixel_6_2', 'pixel_6_3', 'pixel_6_4', 'pixel_6_5', 'pixel_6_6', 'pixel_6_7', 'pixel_7_0', 'pixel_7_1', 'pixel_7_2', 'pixel_7_3', 'pixel_7_4', 'pixel_7_5', 'pixel_7_6', 'pixel_7_7'], 'target_names': array([0, 1, 2, 3, 4, 5, 6, 7, 8, 9]), 'images': array([[[ 0.,  0.,  5., ...,  1.,  0.,  0.],\n",
      "        [ 0.,  0., 13., ..., 15.,  5.,  0.],\n",
      "        [ 0.,  3., 15., ..., 11.,  8.,  0.],\n",
      "        ...,\n",
      "        [ 0.,  4., 11., ..., 12.,  7.,  0.],\n",
      "        [ 0.,  2., 14., ..., 12.,  0.,  0.],\n",
      "        [ 0.,  0.,  6., ...,  0.,  0.,  0.]],\n",
      "\n",
      "       [[ 0.,  0.,  0., ...,  5.,  0.,  0.],\n",
      "        [ 0.,  0.,  0., ...,  9.,  0.,  0.],\n",
      "        [ 0.,  0.,  3., ...,  6.,  0.,  0.],\n",
      "        ...,\n",
      "        [ 0.,  0.,  1., ...,  6.,  0.,  0.],\n",
      "        [ 0.,  0.,  1., ...,  6.,  0.,  0.],\n",
      "        [ 0.,  0.,  0., ..., 10.,  0.,  0.]],\n",
      "\n",
      "       [[ 0.,  0.,  0., ..., 12.,  0.,  0.],\n",
      "        [ 0.,  0.,  3., ..., 14.,  0.,  0.],\n",
      "        [ 0.,  0.,  8., ..., 16.,  0.,  0.],\n",
      "        ...,\n",
      "        [ 0.,  9., 16., ...,  0.,  0.,  0.],\n",
      "        [ 0.,  3., 13., ..., 11.,  5.,  0.],\n",
      "        [ 0.,  0.,  0., ..., 16.,  9.,  0.]],\n",
      "\n",
      "       ...,\n",
      "\n",
      "       [[ 0.,  0.,  1., ...,  1.,  0.,  0.],\n",
      "        [ 0.,  0., 13., ...,  2.,  1.,  0.],\n",
      "        [ 0.,  0., 16., ..., 16.,  5.,  0.],\n",
      "        ...,\n",
      "        [ 0.,  0., 16., ..., 15.,  0.,  0.],\n",
      "        [ 0.,  0., 15., ..., 16.,  0.,  0.],\n",
      "        [ 0.,  0.,  2., ...,  6.,  0.,  0.]],\n",
      "\n",
      "       [[ 0.,  0.,  2., ...,  0.,  0.,  0.],\n",
      "        [ 0.,  0., 14., ..., 15.,  1.,  0.],\n",
      "        [ 0.,  4., 16., ..., 16.,  7.,  0.],\n",
      "        ...,\n",
      "        [ 0.,  0.,  0., ..., 16.,  2.,  0.],\n",
      "        [ 0.,  0.,  4., ..., 16.,  2.,  0.],\n",
      "        [ 0.,  0.,  5., ..., 12.,  0.,  0.]],\n",
      "\n",
      "       [[ 0.,  0., 10., ...,  1.,  0.,  0.],\n",
      "        [ 0.,  2., 16., ...,  1.,  0.,  0.],\n",
      "        [ 0.,  0., 15., ..., 15.,  0.,  0.],\n",
      "        ...,\n",
      "        [ 0.,  4., 16., ..., 16.,  6.,  0.],\n",
      "        [ 0.,  8., 16., ..., 16.,  8.,  0.],\n",
      "        [ 0.,  1.,  8., ..., 12.,  1.,  0.]]]), 'DESCR': \".. _digits_dataset:\\n\\nOptical recognition of handwritten digits dataset\\n--------------------------------------------------\\n\\n**Data Set Characteristics:**\\n\\n    :Number of Instances: 1797\\n    :Number of Attributes: 64\\n    :Attribute Information: 8x8 image of integer pixels in the range 0..16.\\n    :Missing Attribute Values: None\\n    :Creator: E. Alpaydin (alpaydin '@' boun.edu.tr)\\n    :Date: July; 1998\\n\\nThis is a copy of the test set of the UCI ML hand-written digits datasets\\nhttps://archive.ics.uci.edu/ml/datasets/Optical+Recognition+of+Handwritten+Digits\\n\\nThe data set contains images of hand-written digits: 10 classes where\\neach class refers to a digit.\\n\\nPreprocessing programs made available by NIST were used to extract\\nnormalized bitmaps of handwritten digits from a preprinted form. From a\\ntotal of 43 people, 30 contributed to the training set and different 13\\nto the test set. 32x32 bitmaps are divided into nonoverlapping blocks of\\n4x4 and the number of on pixels are counted in each block. This generates\\nan input matrix of 8x8 where each element is an integer in the range\\n0..16. This reduces dimensionality and gives invariance to small\\ndistortions.\\n\\nFor info on NIST preprocessing routines, see M. D. Garris, J. L. Blue, G.\\nT. Candela, D. L. Dimmick, J. Geist, P. J. Grother, S. A. Janet, and C.\\nL. Wilson, NIST Form-Based Handprint Recognition System, NISTIR 5469,\\n1994.\\n\\n.. topic:: References\\n\\n  - C. Kaynak (1995) Methods of Combining Multiple Classifiers and Their\\n    Applications to Handwritten Digit Recognition, MSc Thesis, Institute of\\n    Graduate Studies in Science and Engineering, Bogazici University.\\n  - E. Alpaydin, C. Kaynak (1998) Cascading Classifiers, Kybernetika.\\n  - Ken Tang and Ponnuthurai N. Suganthan and Xi Yao and A. Kai Qin.\\n    Linear dimensionalityreduction using relevance weighted LDA. School of\\n    Electrical and Electronic Engineering Nanyang Technological University.\\n    2005.\\n  - Claudio Gentile. A New Approximate Maximal Margin Classification\\n    Algorithm. NIPS. 2000.\\n\"}\n"
     ]
    }
   ],
   "source": [
    "print(\"\\nThe Entire Dataset \\n\", the_data) "
   ]
  },
  {
   "cell_type": "code",
   "execution_count": 4,
   "metadata": {},
   "outputs": [
    {
     "name": "stdout",
     "output_type": "stream",
     "text": [
      "\n",
      " the_data data type:  <class 'sklearn.utils._bunch.Bunch'>\n",
      "Feature Names: \n",
      " ['pixel_0_0', 'pixel_0_1', 'pixel_0_2', 'pixel_0_3', 'pixel_0_4', 'pixel_0_5', 'pixel_0_6', 'pixel_0_7', 'pixel_1_0', 'pixel_1_1', 'pixel_1_2', 'pixel_1_3', 'pixel_1_4', 'pixel_1_5', 'pixel_1_6', 'pixel_1_7', 'pixel_2_0', 'pixel_2_1', 'pixel_2_2', 'pixel_2_3', 'pixel_2_4', 'pixel_2_5', 'pixel_2_6', 'pixel_2_7', 'pixel_3_0', 'pixel_3_1', 'pixel_3_2', 'pixel_3_3', 'pixel_3_4', 'pixel_3_5', 'pixel_3_6', 'pixel_3_7', 'pixel_4_0', 'pixel_4_1', 'pixel_4_2', 'pixel_4_3', 'pixel_4_4', 'pixel_4_5', 'pixel_4_6', 'pixel_4_7', 'pixel_5_0', 'pixel_5_1', 'pixel_5_2', 'pixel_5_3', 'pixel_5_4', 'pixel_5_5', 'pixel_5_6', 'pixel_5_7', 'pixel_6_0', 'pixel_6_1', 'pixel_6_2', 'pixel_6_3', 'pixel_6_4', 'pixel_6_5', 'pixel_6_6', 'pixel_6_7', 'pixel_7_0', 'pixel_7_1', 'pixel_7_2', 'pixel_7_3', 'pixel_7_4', 'pixel_7_5', 'pixel_7_6', 'pixel_7_7']\n",
      "\n",
      "Target Label Names: \n",
      " [0 1 2 3 4 5 6 7 8 9]\n",
      "\n",
      "features data type:  <class 'numpy.ndarray'>\n",
      "\n",
      "All Features in the data: \n",
      " [[ 0.  0.  5. ...  0.  0.  0.]\n",
      " [ 0.  0.  0. ... 10.  0.  0.]\n",
      " [ 0.  0.  0. ... 16.  9.  0.]\n",
      " ...\n",
      " [ 0.  0.  1. ...  6.  0.  0.]\n",
      " [ 0.  0.  2. ... 12.  0.  0.]\n",
      " [ 0.  0. 10. ... 12.  1.  0.]]\n",
      "\n",
      "All Labels in the data: \n",
      " [0 1 2 ... 8 9 8]\n"
     ]
    }
   ],
   "source": [
    "label_names = the_data['target_names']\n",
    "feature_names = the_data['feature_names']\n",
    "all_labels = the_data['target']\n",
    "all_features = the_data['data']\n",
    "# Looking at our data\n",
    "print(\"\\n the_data data type: \", type(the_data))\n",
    "print(\"Feature Names: \\n\", feature_names)\n",
    "print(\"\\nTarget Label Names: \\n\", label_names)\n",
    "print(\"\\nfeatures data type: \", type(all_features))\n",
    "print(\"\\nAll Features in the data: \\n\", all_features)\n",
    "print(\"\\nAll Labels in the data: \\n\", all_labels)"
   ]
  },
  {
   "cell_type": "code",
   "execution_count": 5,
   "metadata": {},
   "outputs": [
    {
     "name": "stdout",
     "output_type": "stream",
     "text": [
      "\n",
      "Training features: \n",
      " [[ 0.  0.  0. ... 16. 16.  6.]\n",
      " [ 0.  3. 12. ... 16.  2.  0.]\n",
      " [ 0.  1. 10. ...  0.  0.  0.]\n",
      " ...\n",
      " [ 0.  0.  5. ...  0.  0.  0.]\n",
      " [ 0.  0.  4. ...  0.  0.  0.]\n",
      " [ 0.  0.  6. ... 11.  0.  0.]]\n",
      "\n",
      "Training Labels: \n",
      " [6 5 3 ... 7 7 8]\n",
      "\n",
      "Testing Labels: \n",
      " [2 8 2 6 6 7 1 9 8 5 2 8 6 6 6 6 1 0 5 8 8 7 8 4 7 5 4 9 2 9 4 7 6 8 9 4 3\n",
      " 1 0 1 8 6 7 7 1 0 7 6 2 1 9 6 7 9 0 0 5 1 6 3 0 2 3 4 1 9 2 6 9 1 8 3 5 1\n",
      " 2 8 2 2 9 7 2 3 6 0 5 3 7 5 1 2 9 9 3 1 7 7 4 8 5 8 5 5 2 5 9 0 7 1 4 7 3\n",
      " 4 8 9 7 9 8 2 6 5 2 5 8 4 8 7 0 6 1 5 9 9 9 5 9 9 5 7 5 6 2 8 6 9 6 1 5 1\n",
      " 5 9 9 1 5 3 6 1 8 9 8 7 6 7 6 5 6 0 8 8 9 8 6 1 0 4 1 6 3 8 6 7 4 5 6 3 0\n",
      " 3 3 3 0 7 7 5 7 8 0 7 8 9 6 4 5 0 1 4 6 4 3 3 0 9 5 9 2 1 4 2 1 6 8 9 2 4\n",
      " 9 3 7 6 2 3 3 1 6 9 3 6 3 2 2 0 7 6 1 1 9 7 2 7 8 5 5 7 5 2 3 7 2 7 5 5 7\n",
      " 0 9 1 6 5 9 7 4 3 8 0 3 6 4 6 3 2 6 8 8 8 4 6 7 5 2 4 5 3 2 4 6 9 4 5 4 3\n",
      " 4 6 2 9 0 1 7 2 0 9 6 0 4 2 0 7 9 8 5 4 8 2 8 4 3 7 2 6 9 1 5 1 0 8 2 1 9\n",
      " 5 6 8 2 7 2 1 5 1 6 4 5 0 9 4 1 1 7 0 8 9 0 5 4 3 8 8]\n"
     ]
    }
   ],
   "source": [
    "from sklearn.model_selection import train_test_split\n",
    "# Spliting our dataset into 2 parts for training and testing\n",
    "training_features, testing_features, training_labels, testing_labels = train_test_split(\n",
    "    all_features, all_labels, test_size=0.2, random_state=0)\n",
    "print(\"\\nTraining features: \\n\", training_features)\n",
    "print(\"\\nTraining Labels: \\n\", training_labels)\n",
    "print(\"\\nTesting Labels: \\n\", testing_labels)\n"
   ]
  },
  {
   "attachments": {},
   "cell_type": "markdown",
   "metadata": {},
   "source": [
    "`Naive Bayes classifier`"
   ]
  },
  {
   "cell_type": "code",
   "execution_count": 6,
   "metadata": {},
   "outputs": [],
   "source": [
    "from sklearn.naive_bayes import GaussianNB\n",
    "# classifier is now an object of the Gaussian Naive Bayes class\n",
    "classifier = GaussianNB()\n",
    "model = classifier.fit(training_features, training_labels)\n",
    "# use the model obtained in previous step to predict labels for testing features\n",
    "predicted_labels = model.predict(testing_features)\n"
   ]
  },
  {
   "cell_type": "code",
   "execution_count": 7,
   "metadata": {},
   "outputs": [
    {
     "name": "stdout",
     "output_type": "stream",
     "text": [
      "\n",
      "Predicted class labels: \n",
      " [2 8 2 6 6 7 1 9 8 5 2 8 6 6 6 6 1 0 5 8 8 7 8 4 7 5 4 9 2 9 4 7 6 8 9 4 3\n",
      " 1 0 1 8 6 7 7 1 0 7 6 2 1 9 6 7 9 0 0 5 8 6 3 0 2 3 4 1 9 8 6 8 8 8 3 5 1\n",
      " 2 1 2 1 9 7 1 3 6 0 5 3 7 5 1 8 9 9 3 1 7 7 4 8 5 1 5 5 8 5 8 0 7 1 7 7 3\n",
      " 7 8 9 7 7 8 1 6 5 8 5 5 4 1 7 0 6 8 5 8 1 1 5 9 9 5 7 5 6 8 8 6 7 6 1 5 1\n",
      " 7 9 9 1 5 3 6 1 8 9 7 7 6 7 6 5 6 0 8 8 3 8 6 1 0 7 1 6 3 8 6 7 4 9 6 3 0\n",
      " 2 3 3 0 7 7 5 7 8 0 7 1 9 6 4 7 0 1 4 6 4 3 8 0 9 5 3 1 1 4 8 1 6 8 9 2 4\n",
      " 9 3 7 6 8 3 3 1 6 9 8 6 3 1 2 0 7 6 1 1 8 7 1 7 1 5 5 7 5 8 8 7 2 7 5 5 7\n",
      " 0 9 1 6 5 9 7 4 3 8 0 3 6 4 6 3 1 6 8 8 8 4 6 7 5 2 1 7 3 8 4 6 9 4 5 7 3\n",
      " 4 6 2 8 0 1 7 8 0 3 6 0 4 8 0 7 8 8 5 7 8 2 8 7 3 7 2 6 7 1 1 1 0 8 2 8 8\n",
      " 5 6 8 2 7 8 1 5 1 6 4 5 0 9 4 1 1 7 0 8 9 0 5 7 8 8 8]\n",
      "\n",
      "Correct Testing class labels: \n",
      " [2 8 2 6 6 7 1 9 8 5 2 8 6 6 6 6 1 0 5 8 8 7 8 4 7 5 4 9 2 9 4 7 6 8 9 4 3\n",
      " 1 0 1 8 6 7 7 1 0 7 6 2 1 9 6 7 9 0 0 5 1 6 3 0 2 3 4 1 9 2 6 9 1 8 3 5 1\n",
      " 2 8 2 2 9 7 2 3 6 0 5 3 7 5 1 2 9 9 3 1 7 7 4 8 5 8 5 5 2 5 9 0 7 1 4 7 3\n",
      " 4 8 9 7 9 8 2 6 5 2 5 8 4 8 7 0 6 1 5 9 9 9 5 9 9 5 7 5 6 2 8 6 9 6 1 5 1\n",
      " 5 9 9 1 5 3 6 1 8 9 8 7 6 7 6 5 6 0 8 8 9 8 6 1 0 4 1 6 3 8 6 7 4 5 6 3 0\n",
      " 3 3 3 0 7 7 5 7 8 0 7 8 9 6 4 5 0 1 4 6 4 3 3 0 9 5 9 2 1 4 2 1 6 8 9 2 4\n",
      " 9 3 7 6 2 3 3 1 6 9 3 6 3 2 2 0 7 6 1 1 9 7 2 7 8 5 5 7 5 2 3 7 2 7 5 5 7\n",
      " 0 9 1 6 5 9 7 4 3 8 0 3 6 4 6 3 2 6 8 8 8 4 6 7 5 2 4 5 3 2 4 6 9 4 5 4 3\n",
      " 4 6 2 9 0 1 7 2 0 9 6 0 4 2 0 7 9 8 5 4 8 2 8 4 3 7 2 6 9 1 5 1 0 8 2 1 9\n",
      " 5 6 8 2 7 2 1 5 1 6 4 5 0 9 4 1 1 7 0 8 9 0 5 4 3 8 8]\n",
      "\n",
      "Predicted Class Names: \n",
      " [2 8 2 6 6 7 1 9 8 5 2 8 6 6 6 6 1 0 5 8 8 7 8 4 7 5 4 9 2 9 4 7 6 8 9 4 3\n",
      " 1 0 1 8 6 7 7 1 0 7 6 2 1 9 6 7 9 0 0 5 8 6 3 0 2 3 4 1 9 8 6 8 8 8 3 5 1\n",
      " 2 1 2 1 9 7 1 3 6 0 5 3 7 5 1 8 9 9 3 1 7 7 4 8 5 1 5 5 8 5 8 0 7 1 7 7 3\n",
      " 7 8 9 7 7 8 1 6 5 8 5 5 4 1 7 0 6 8 5 8 1 1 5 9 9 5 7 5 6 8 8 6 7 6 1 5 1\n",
      " 7 9 9 1 5 3 6 1 8 9 7 7 6 7 6 5 6 0 8 8 3 8 6 1 0 7 1 6 3 8 6 7 4 9 6 3 0\n",
      " 2 3 3 0 7 7 5 7 8 0 7 1 9 6 4 7 0 1 4 6 4 3 8 0 9 5 3 1 1 4 8 1 6 8 9 2 4\n",
      " 9 3 7 6 8 3 3 1 6 9 8 6 3 1 2 0 7 6 1 1 8 7 1 7 1 5 5 7 5 8 8 7 2 7 5 5 7\n",
      " 0 9 1 6 5 9 7 4 3 8 0 3 6 4 6 3 1 6 8 8 8 4 6 7 5 2 1 7 3 8 4 6 9 4 5 7 3\n",
      " 4 6 2 8 0 1 7 8 0 3 6 0 4 8 0 7 8 8 5 7 8 2 8 7 3 7 2 6 7 1 1 1 0 8 2 8 8\n",
      " 5 6 8 2 7 8 1 5 1 6 4 5 0 9 4 1 1 7 0 8 9 0 5 7 8 8 8]\n",
      "\n",
      "Correct Class Names: \n",
      " [2 8 2 6 6 7 1 9 8 5 2 8 6 6 6 6 1 0 5 8 8 7 8 4 7 5 4 9 2 9 4 7 6 8 9 4 3\n",
      " 1 0 1 8 6 7 7 1 0 7 6 2 1 9 6 7 9 0 0 5 1 6 3 0 2 3 4 1 9 2 6 9 1 8 3 5 1\n",
      " 2 8 2 2 9 7 2 3 6 0 5 3 7 5 1 2 9 9 3 1 7 7 4 8 5 8 5 5 2 5 9 0 7 1 4 7 3\n",
      " 4 8 9 7 9 8 2 6 5 2 5 8 4 8 7 0 6 1 5 9 9 9 5 9 9 5 7 5 6 2 8 6 9 6 1 5 1\n",
      " 5 9 9 1 5 3 6 1 8 9 8 7 6 7 6 5 6 0 8 8 9 8 6 1 0 4 1 6 3 8 6 7 4 5 6 3 0\n",
      " 3 3 3 0 7 7 5 7 8 0 7 8 9 6 4 5 0 1 4 6 4 3 3 0 9 5 9 2 1 4 2 1 6 8 9 2 4\n",
      " 9 3 7 6 2 3 3 1 6 9 3 6 3 2 2 0 7 6 1 1 9 7 2 7 8 5 5 7 5 2 3 7 2 7 5 5 7\n",
      " 0 9 1 6 5 9 7 4 3 8 0 3 6 4 6 3 2 6 8 8 8 4 6 7 5 2 4 5 3 2 4 6 9 4 5 4 3\n",
      " 4 6 2 9 0 1 7 2 0 9 6 0 4 2 0 7 9 8 5 4 8 2 8 4 3 7 2 6 9 1 5 1 0 8 2 1 9\n",
      " 5 6 8 2 7 2 1 5 1 6 4 5 0 9 4 1 1 7 0 8 9 0 5 4 3 8 8]\n"
     ]
    }
   ],
   "source": [
    "print (\"\\nPredicted class labels: \\n\", predicted_labels)\n",
    "print(\"\\nCorrect Testing class labels: \\n\", testing_labels)\n",
    "print(\"\\nPredicted Class Names: \\n\", label_names[predicted_labels])\n",
    "print(\"\\nCorrect Class Names: \\n\", label_names[testing_labels])"
   ]
  },
  {
   "cell_type": "code",
   "execution_count": 8,
   "metadata": {},
   "outputs": [
    {
     "name": "stdout",
     "output_type": "stream",
     "text": [
      "Test data where predicted label equals the test label: \n",
      " [ True  True  True  True  True  True  True  True  True  True  True  True\n",
      "  True  True  True  True  True  True  True  True  True  True  True  True\n",
      "  True  True  True  True  True  True  True  True  True  True  True  True\n",
      "  True  True  True  True  True  True  True  True  True  True  True  True\n",
      "  True  True  True  True  True  True  True  True  True False  True  True\n",
      "  True  True  True  True  True  True False  True False False  True  True\n",
      "  True  True  True False  True False  True  True False  True  True  True\n",
      "  True  True  True  True  True False  True  True  True  True  True  True\n",
      "  True  True  True False  True  True False  True False  True  True  True\n",
      " False  True  True False  True  True  True False  True False  True  True\n",
      " False  True False  True False  True  True  True False  True False False\n",
      " False  True  True  True  True  True  True  True False  True  True False\n",
      "  True  True  True  True False  True  True  True  True  True  True  True\n",
      "  True  True False  True  True  True  True  True  True  True  True  True\n",
      " False  True  True  True  True False  True  True  True  True  True  True\n",
      "  True False  True  True  True False  True  True  True  True  True  True\n",
      "  True  True  True  True False  True  True  True False  True  True  True\n",
      "  True  True  True False  True  True  True False False  True  True False\n",
      "  True  True  True  True  True  True  True  True  True  True False  True\n",
      "  True  True  True  True False  True  True False  True  True  True  True\n",
      "  True  True False  True False  True False  True  True  True  True False\n",
      " False  True  True  True  True  True  True  True  True  True  True  True\n",
      "  True  True  True  True  True  True  True  True  True  True  True False\n",
      "  True  True  True  True  True  True  True  True  True False False  True\n",
      " False  True  True  True  True  True False  True  True  True  True False\n",
      "  True  True  True False  True False  True  True  True False  True  True\n",
      " False  True  True False  True  True  True False  True  True  True  True\n",
      " False  True False  True  True  True  True False False  True  True  True\n",
      "  True  True False  True  True  True  True  True  True  True  True  True\n",
      "  True  True  True  True  True  True  True  True False False  True  True]\n",
      "\n",
      "Number of correct predictions: 297. Out of total test cases 360.\n"
     ]
    }
   ],
   "source": [
    "print(\"Test data where predicted label equals the test label: \\n\",\n",
    "      testing_labels == predicted_labels)\n",
    "number_correct = (testing_labels == predicted_labels).sum()\n",
    "print(\"\\nNumber of correct predictions: %d. Out of total test cases %d.\" %\n",
    "      (number_correct, testing_labels.shape[0]))\n"
   ]
  },
  {
   "cell_type": "code",
   "execution_count": 9,
   "metadata": {},
   "outputs": [
    {
     "name": "stdout",
     "output_type": "stream",
     "text": [
      "Prediction Accuracy : 82.50%\n"
     ]
    }
   ],
   "source": [
    "from sklearn.metrics import accuracy_score\n",
    "# Calculating the % Accuracy of the prediction. For Iris dataset random_state = 0 gives 97%, random_state 40 gives 100%, random_state 5 gives 90%.\n",
    "accuracy_percent = 100*accuracy_score(testing_labels, predicted_labels)\n",
    "# %% escapes the formatting % to print '%'\n",
    "print(\"Prediction Accuracy : %5.2f%%\" % accuracy_percent)\n"
   ]
  },
  {
   "attachments": {},
   "cell_type": "markdown",
   "metadata": {},
   "source": [
    "`KNN classifier`"
   ]
  },
  {
   "cell_type": "code",
   "execution_count": 10,
   "metadata": {},
   "outputs": [
    {
     "name": "stdout",
     "output_type": "stream",
     "text": [
      "Prediction Accuracy for k =  1 : 98.89%\n",
      "Prediction Accuracy for k =  2 : 98.06%\n",
      "Prediction Accuracy for k =  3 : 98.33%\n",
      "Prediction Accuracy for k =  4 : 97.50%\n",
      "Prediction Accuracy for k =  5 : 97.50%\n",
      "Prediction Accuracy for k =  6 : 97.22%\n",
      "Prediction Accuracy for k =  7 : 97.50%\n",
      "Prediction Accuracy for k =  8 : 97.50%\n",
      "Prediction Accuracy for k =  9 : 97.50%\n",
      "Prediction Accuracy for k = 10 : 97.22%\n",
      "Prediction Accuracy for k = 11 : 97.22%\n",
      "Prediction Accuracy for k = 12 : 97.22%\n",
      "Prediction Accuracy for k = 13 : 97.22%\n",
      "Prediction Accuracy for k = 14 : 96.94%\n",
      "Prediction Accuracy for k = 15 : 96.94%\n",
      "Prediction Accuracy for k = 16 : 96.94%\n",
      "Prediction Accuracy for k = 17 : 96.67%\n",
      "Prediction Accuracy for k = 18 : 96.67%\n",
      "Prediction Accuracy for k = 19 : 96.11%\n",
      " K =  [1, 2, 3, 4, 5, 6, 7, 8, 9, 10, 11, 12, 13, 14, 15, 16, 17, 18, 19] \n",
      " Errors =  [1.1111111111111143, 1.9444444444444429, 1.6666666666666714, 2.5, 2.5, 2.7777777777777857, 2.5, 2.5, 2.5, 2.7777777777777857, 2.7777777777777857, 2.7777777777777857, 2.7777777777777857, 3.055555555555557, 3.055555555555557, 3.055555555555557, 3.3333333333333286, 3.3333333333333286, 3.8888888888888857]\n"
     ]
    }
   ],
   "source": [
    "from sklearn.neighbors import KNeighborsClassifier\n",
    "neighbor_size = []\n",
    "errors_list = []\n",
    "for k in range(1, 20):\n",
    "    classifier = KNeighborsClassifier(n_neighbors=k)\n",
    "    # or can also use:   predicted_labels = classifier.fit(train_features,train_labels)\n",
    "    model = classifier.fit(training_features, training_labels)\n",
    "    # use the model obtained in previous step to predict labels for testing features\n",
    "    predicted_labels = model.predict(testing_features)\n",
    "    accuracy_percent = 100*accuracy_score(testing_labels, predicted_labels)\n",
    "    # Calculating the % Accuracy of the prediction.\n",
    "    print(\"Prediction Accuracy for k = %2d : %5.2f%%\" %\n",
    "          (k, accuracy_percent))  # %% escapes the formatting % to print '%'\n",
    "    neighbor_size.append(k)\n",
    "    errors_list.append(100-accuracy_percent)\n",
    "        \n",
    "print(\" K = \", neighbor_size, \"\\n\", \"Errors = \", errors_list)\n"
   ]
  },
  {
   "cell_type": "code",
   "execution_count": 11,
   "metadata": {},
   "outputs": [
    {
     "data": {
      "image/png": "[encoded data removed]",
      "text/plain": [
       "<Figure size 1000x600 with 1 Axes>"
      ]
     },
     "metadata": {},
     "output_type": "display_data"
    }
   ],
   "source": [
    "# plot misclassification error versus k\n",
    "import matplotlib.pyplot as plt\n",
    "plt.figure(figsize=(10, 6))\n",
    "plt.plot(neighbor_size, errors_list)  # x list and y list\n",
    "plt.xlabel('Number of neighbors')\n",
    "plt.ylabel('Misclassification Error Percent')\n",
    "plt.ylim((0, 10))\n",
    "plt.grid(True)\n",
    "plt.show()\n"
   ]
  },
  {
   "cell_type": "code",
   "execution_count": 12,
   "metadata": {},
   "outputs": [
    {
     "name": "stdout",
     "output_type": "stream",
     "text": [
      "scores =  [0.96111111 0.95277778 0.96657382 0.98607242 0.95543175] average =  0.9643933766635715\n",
      "scores =  [0.96111111 0.96666667 0.96935933 0.97771588 0.96100279] average =  0.9671711544413494\n",
      "scores =  [0.95555556 0.95833333 0.96657382 0.98607242 0.96657382] average =  0.966621788919839\n",
      "scores =  [0.94722222 0.95833333 0.96657382 0.98050139 0.96657382] average =  0.9638409161250386\n",
      "scores =  [0.94722222 0.95555556 0.96657382 0.98050139 0.9637883 ] average =  0.9627282575054161\n",
      "scores =  [0.94444444 0.95833333 0.96657382 0.97493036 0.95264624] average =  0.9593856391210152\n",
      "scores =  [0.93611111 0.96111111 0.96935933 0.98050139 0.95264624] average =  0.9599458372021046\n",
      "scores =  [0.93611111 0.95833333 0.96935933 0.97771588 0.94986072] average =  0.9582760755184154\n",
      "scores =  [0.93055556 0.95277778 0.97214485 0.97771588 0.94986072] average =  0.9566109563602601\n",
      "scores =  [0.93055556 0.94722222 0.96935933 0.97771588 0.94986072] average =  0.954942742185082\n",
      "scores =  [0.93611111 0.94444444 0.96935933 0.97771588 0.94986072] average =  0.9554982977406375\n",
      "scores =  [0.93333333 0.95277778 0.96935933 0.97493036 0.94986072] average =  0.9560523057876817\n",
      "scores =  [0.93333333 0.95       0.97214485 0.97493036 0.94707521] average =  0.9554967502321263\n",
      "scores =  [0.93611111 0.95277778 0.96935933 0.97214485 0.94986072] average =  0.9560507582791706\n",
      "scores =  [0.93333333 0.95       0.96935933 0.97214485 0.94707521] average =  0.9543825441039926\n",
      "scores =  [0.93055556 0.95       0.96935933 0.96935933 0.95264624] average =  0.9543840916125038\n",
      "scores =  [0.93611111 0.95       0.9637883  0.96657382 0.94986072] average =  0.9532667904673475\n",
      "scores =  [0.92777778 0.94444444 0.9637883  0.9637883  0.94707521] average =  0.9493748065614362\n",
      "scores =  [0.93055556 0.95       0.9637883  0.9637883  0.94428969] average =  0.950484370164036\n",
      " K =  [1, 2, 3, 4, 5, 6, 7, 8, 9, 10, 11, 12, 13, 14, 15, 16, 17, 18, 19] \n",
      " Error Percent =  [3.5606623336428527, 3.282884555865067, 3.337821108016101, 3.615908387496134, 3.727174249458386, 4.061436087898485, 4.005416279789543, 4.172392448158462, 4.338904363973995, 4.505725781491805, 4.4501702259362474, 4.394769421231828, 4.450324976787371, 4.394924172082938, 4.561745589600747, 4.561590838749623, 4.673320953265247, 5.06251934385638, 4.9515629835964035]\n"
     ]
    }
   ],
   "source": [
    "from sklearn.model_selection import cross_val_score\n",
    "# perform k-fold cross validation\n",
    "neighbor_size = []  # value of k used\n",
    "errors_list = []  # accuracy for k used\n",
    "num_folds = 5  # number of folds in k-fold. Usually 5 is a good number.\n",
    "for k in range(1, 20):\n",
    "    classifier = KNeighborsClassifier(n_neighbors=k)\n",
    "    # try the experiment, splitting data into num_fold folds, with 1 fold as test set\n",
    "    scores = cross_val_score(classifier, all_features,\n",
    "                             all_labels, cv=num_folds, scoring='accuracy')\n",
    "    print(\"scores = \", scores, \"average = \", scores.mean())\n",
    "    # use the mean of the cv = num_folds scores as accuracy.\n",
    "    accuracy_percent = 100*scores.mean()\n",
    "    neighbor_size.append(k)\n",
    "    errors_list.append(100-accuracy_percent)\n",
    "\n",
    "print(\" K = \", neighbor_size, \"\\n\", \"Error Percent = \", errors_list)\n"
   ]
  },
  {
   "cell_type": "code",
   "execution_count": 13,
   "metadata": {},
   "outputs": [
    {
     "data": {
      "image/png": "[encoded data removed]",
      "text/plain": [
       "<Figure size 1000x600 with 1 Axes>"
      ]
     },
     "metadata": {},
     "output_type": "display_data"
    }
   ],
   "source": [
    "# plot misclassification error versus k\n",
    "plt.figure(figsize=(10, 6))\n",
    "plt.plot(neighbor_size, errors_list)  # x list and y_list\n",
    "plt.xlabel('Number of neighbors (K)')\n",
    "plt.ylabel('Misclassification Error Percent')\n",
    "plt.ylim((0, 10))\n",
    "plt.grid(True)\n",
    "plt.show()\n"
   ]
  },
  {
   "cell_type": "code",
   "execution_count": 14,
   "metadata": {},
   "outputs": [
    {
     "data": {
      "image/png": "[encoded data removed]",
      "text/plain": [
       "<Figure size 1000x600 with 1 Axes>"
      ]
     },
     "metadata": {},
     "output_type": "display_data"
    },
    {
     "name": "stdout",
     "output_type": "stream",
     "text": [
      "Best k =  1 Best Accuracy =  98.88888888888889\n"
     ]
    }
   ],
   "source": [
    "# k_input = input(\"Enter k value for KNN: \")\n",
    "accuracy = {}\n",
    "best_k = 1\n",
    "best_accuracy = 0\n",
    "for k in range(1, 20):\n",
    "    classifier = KNeighborsClassifier(n_neighbors=k)\n",
    "    # or can also use:   predicted_labels = classifier.fit(train_features,train_labels)\n",
    "    model = classifier.fit(training_features, training_labels)\n",
    "    # use the model obtained in previous step to predict labels for testing features\n",
    "    predicted_labels = model.predict(testing_features)\n",
    "    accuracy_percent = 100*accuracy_score(testing_labels, predicted_labels)\n",
    "    accuracy[k] = accuracy_percent\n",
    "    if accuracy_percent > best_accuracy:\n",
    "        best_accuracy = accuracy_percent\n",
    "        best_k = k\n",
    "\n",
    "# plot k with accuracy\n",
    "plt.figure(figsize=(10, 6))\n",
    "plt.plot(accuracy.keys(), accuracy.values())  # x list and y_list\n",
    "plt.xlabel('Number of neighbors (K)')\n",
    "plt.ylabel('Accuracy')\n",
    "plt.ylim((0, 100))\n",
    "plt.grid(True)\n",
    "plt.show()\n",
    "\n",
    "print(\"Best k = \", best_k, \"Best Accuracy = \", best_accuracy)"
   ]
  }
 ],
 "metadata": {
  "kernelspec": {
   "display_name": "Python 3",
   "language": "python",
   "name": "python3"
  },
  "language_info": {
   "codemirror_mode": {
    "name": "ipython",
    "version": 3
   },
   "file_extension": ".py",
   "mimetype": "text/x-python",
   "name": "python",
   "nbconvert_exporter": "python",
   "pygments_lexer": "ipython3",
   "version": "3.11.2"
  },
  "orig_nbformat": 4,
  "vscode": {
   "interpreter": {
    "hash": "1a1af0ee75eeea9e2e1ee996c87e7a2b11a0bebd85af04bb136d915cefc0abce"
   }
  }
 },
 "nbformat": 4,
 "nbformat_minor": 2
}
