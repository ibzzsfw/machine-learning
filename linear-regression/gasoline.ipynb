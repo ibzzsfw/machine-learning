{
 "cells": [
  {
   "attachments": {},
   "cell_type": "markdown",
   "metadata": {},
   "source": [
    "`63070501061 S.RAKNA`\n",
    "\n",
    "# 3. Gasoline"
   ]
  },
  {
   "attachments": {},
   "cell_type": "markdown",
   "metadata": {},
   "source": [
    "> 10 points.\n",
    "\n",
    "#### 2.1 Show the equation found by fitting the training data:\n",
    "$y=f(x_1,x_2,x_3,x_4)=a_0+a_1x_1+a_2x_2+a_3x_3+a_4x_4$"
   ]
  },
  {
   "cell_type": "code",
   "execution_count": 1,
   "metadata": {},
   "outputs": [],
   "source": [
    "import re\n",
    "\n",
    "import pandas as pd"
   ]
  },
  {
   "cell_type": "code",
   "execution_count": 2,
   "metadata": {},
   "outputs": [
    {
     "name": "stdout",
     "output_type": "stream",
     "text": [
      "    Gasoline_tax  Average_income  Paved_highways  \\\n",
      "0           9.00            3571            1976   \n",
      "1           9.00            4092            1250   \n",
      "2           9.00            3865            1586   \n",
      "3           7.50            4870            2351   \n",
      "4           8.00            4399             431   \n",
      "5          10.00            5342            1333   \n",
      "6           8.00            5319           11868   \n",
      "7           8.00            5126            2138   \n",
      "8           8.00            4447            8577   \n",
      "9           7.00            4512            8507   \n",
      "10          8.00            4391            5939   \n",
      "11          7.50            5126           14186   \n",
      "12          7.00            4817            6930   \n",
      "13          7.00            4207            6580   \n",
      "14          7.00            4332            8159   \n",
      "15          7.00            4318           10340   \n",
      "16          7.00            4206            8508   \n",
      "17          7.00            3718            4725   \n",
      "18          7.00            4716            5915   \n",
      "19          8.50            4341            6010   \n",
      "20          7.00            4593            7834   \n",
      "21          8.00            4983             602   \n",
      "22          9.00            4897            2449   \n",
      "23          9.00            4258            4686   \n",
      "24          8.50            4574            2619   \n",
      "25          9.00            3721            4746   \n",
      "26          8.00            3448            5399   \n",
      "27          7.50            3846            9061   \n",
      "28          8.00            4188            5975   \n",
      "29          9.00            3601            4650   \n",
      "30          7.00            3640            6905   \n",
      "31          7.00            3333            6594   \n",
      "32          8.00            3063            6524   \n",
      "33          7.50            3357            4121   \n",
      "34          8.00            3528            3495   \n",
      "35          6.58            3802            7834   \n",
      "36          5.00            4045           17782   \n",
      "37          7.00            3897            6385   \n",
      "38          8.50            3635            3274   \n",
      "39          7.00            4345            3905   \n",
      "40          7.00            4449            4639   \n",
      "41          7.00            3656            3985   \n",
      "42          7.00            4300            3635   \n",
      "43          7.00            3745            2611   \n",
      "44          6.00            5215            2302   \n",
      "45          9.00            4476            3942   \n",
      "46          7.00            4296            4083   \n",
      "47          7.00            5002            9794   \n",
      "\n",
      "    Proportion_of_population_with_driver_licenses  Consumption_of_gasoline  \n",
      "0                                           0.525                      541  \n",
      "1                                           0.572                      524  \n",
      "2                                           0.580                      561  \n",
      "3                                           0.529                      414  \n",
      "4                                           0.544                      410  \n",
      "5                                           0.571                      457  \n",
      "6                                           0.451                      344  \n",
      "7                                           0.553                      467  \n",
      "8                                           0.529                      464  \n",
      "9                                           0.552                      498  \n",
      "10                                          0.530                      580  \n",
      "11                                          0.525                      471  \n",
      "12                                          0.574                      525  \n",
      "13                                          0.545                      508  \n",
      "14                                          0.608                      566  \n",
      "15                                          0.586                      635  \n",
      "16                                          0.572                      603  \n",
      "17                                          0.540                      714  \n",
      "18                                          0.724                      865  \n",
      "19                                          0.677                      640  \n",
      "20                                          0.663                      649  \n",
      "21                                          0.602                      540  \n",
      "22                                          0.511                      464  \n",
      "23                                          0.517                      547  \n",
      "24                                          0.551                      460  \n",
      "25                                          0.544                      566  \n",
      "26                                          0.548                      577  \n",
      "27                                          0.579                      631  \n",
      "28                                          0.563                      574  \n",
      "29                                          0.493                      534  \n",
      "30                                          0.518                      571  \n",
      "31                                          0.513                      554  \n",
      "32                                          0.578                      577  \n",
      "33                                          0.547                      628  \n",
      "34                                          0.487                      487  \n",
      "35                                          0.629                      644  \n",
      "36                                          0.566                      640  \n",
      "37                                          0.586                      704  \n",
      "38                                          0.663                      648  \n",
      "39                                          0.672                      968  \n",
      "40                                          0.626                      587  \n",
      "41                                          0.563                      699  \n",
      "42                                          0.603                      632  \n",
      "43                                          0.508                      591  \n",
      "44                                          0.672                      782  \n",
      "45                                          0.571                      510  \n",
      "46                                          0.623                      610  \n",
      "47                                          0.593                      524  \n"
     ]
    }
   ],
   "source": [
    "# read the text file\n",
    "with open('gasoline_use.txt', 'r') as file:\n",
    "    data = file.read()\n",
    "\n",
    "# extract the tabular data\n",
    "table = re.findall(\n",
    "    r'\\d+\\s+\\d+\\s+[\\d\\.]+\\s+[\\d\\.]+\\s+[\\d\\.]+\\s+[\\d\\.]+\\s+[\\d\\.]+', data)\n",
    "\n",
    "# create a DataFrame\n",
    "df = pd.DataFrame([row.split() for row in table], columns=['Index', 'One', 'Gasoline_tax', 'Average_income',\n",
    "                  'Paved_highways', 'Proportion_of_population_with_driver_licenses', 'Consumption_of_gasoline'])\n",
    "\n",
    "# convert columns to appropriate types\n",
    "df['Gasoline_tax'] = df['Gasoline_tax'].astype(float)\n",
    "df['Average_income'] = df['Average_income'].astype(int)\n",
    "df['Paved_highways'] = df['Paved_highways'].astype(int)\n",
    "df['Proportion_of_population_with_driver_licenses'] = df['Proportion_of_population_with_driver_licenses'].astype(\n",
    "    float)\n",
    "df['Consumption_of_gasoline'] = df['Consumption_of_gasoline'].astype(int)\n",
    "\n",
    "# drop the 'One' and 'Index' column\n",
    "df.drop('One', axis=1, inplace=True)\n",
    "df.drop('Index', axis=1, inplace=True)\n",
    "\n",
    "# print the DataFrame\n",
    "print(df)"
   ]
  },
  {
   "cell_type": "code",
   "execution_count": 3,
   "metadata": {},
   "outputs": [],
   "source": [
    "#      I,  the index;\n",
    "#      A0, 1; - used for intercept purposes. Can be ignored if fitting also finds intercept.\n",
    "#      A1, the gasoline tax ($);\n",
    "#      A2, the per capita income ($);\n",
    "#      A3, the number of miles of paved highway (miles);\n",
    "#      A4, the proportion of drivers (%);\n",
    "#      B,  the consumption of gasoline (gallons).\n",
    "#\n",
    "#    We seek a model of the form\n",
    "#\n",
    "#      B = A0 * X0 + A1 * X1 + A2 * X2 + A3 * X3 + A4 * X4.\n",
    "\n",
    "# Split the data into training and test sets. (0.8, 0.2) split.\n",
    "train = df.sample(frac=0.8, random_state=200)\n",
    "test = df.drop(train.index)\n",
    "\n",
    "# The predicted column is \"Consumption_of_gasoline\"\n",
    "y_name = \"Consumption_of_gasoline\"\n",
    "\n",
    "# The feature columns are all the other columns\n",
    "x_names = list(df.columns)\n",
    "x_names.remove(y_name)"
   ]
  },
  {
   "cell_type": "code",
   "execution_count": 4,
   "metadata": {},
   "outputs": [
    {
     "name": "stdout",
     "output_type": "stream",
     "text": [
      "Coefficients: [-3.99857337e+01 -5.77254110e-02 -4.37813717e-03  1.29275589e+03]\n",
      "Intercept: 417.6624801331175\n",
      "\n",
      "y = 417.6624801331175 + -39.98573367099619 * x_1 + -0.057725410954853076 * x_2 + -0.0043781371723111565 * x_3 + 1292.7558862173669 * x_4\n"
     ]
    }
   ],
   "source": [
    "# Fitting training data as y = A0 + A1 * X1 + A2 * X2 + A3 * X3 + A4 * X4\n",
    "# The model will find the coefficients A0, A1, A2, A3, A4\n",
    "\n",
    "# Import the linear regression model\n",
    "from sklearn.linear_model import LinearRegression\n",
    "\n",
    "# Create the model\n",
    "model = LinearRegression()\n",
    "\n",
    "# Fit the model to the training data\n",
    "model.fit(train[x_names], train[y_name])\n",
    "\n",
    "# Print the coefficients\n",
    "coefficients = model.coef_\n",
    "intercept = model.intercept_\n",
    "print(f\"Coefficients: {coefficients}\")\n",
    "print(f\"Intercept: {intercept}\\n\")\n",
    "print(f\"y = {intercept} + {coefficients[0]} * x_1 + {coefficients[1]} * x_2 + {coefficients[2]} * x_3 + {coefficients[3]} * x_4\")"
   ]
  },
  {
   "attachments": {},
   "cell_type": "markdown",
   "metadata": {},
   "source": [
    "> 5 points.\n",
    "\n",
    "#### 2.2 What is the $R^2$ for the **prediction** of y? Use testing data."
   ]
  },
  {
   "cell_type": "code",
   "execution_count": 5,
   "metadata": {},
   "outputs": [
    {
     "name": "stdout",
     "output_type": "stream",
     "text": [
      "R^2 for prediction: 0.3929084690649357\n"
     ]
    }
   ],
   "source": [
    "# Predict the test data\n",
    "predictions = model.predict(test[x_names])\n",
    "\n",
    "# Print R^2 for the model on the test data\n",
    "from sklearn.metrics import r2_score\n",
    "\n",
    "r2 = r2_score(test[y_name], predictions)\n",
    "\n",
    "print(f\"R^2 for prediction: {r2}\")"
   ]
  },
  {
   "attachments": {},
   "cell_type": "markdown",
   "metadata": {},
   "source": [
    "> 5 points.\n",
    "\n",
    "#### 2.2 What would happen to gasoline consumption if taxes are increased by $2.00? Use training data."
   ]
  },
  {
   "cell_type": "code",
   "execution_count": 6,
   "metadata": {},
   "outputs": [
    {
     "data": {
      "image/png": "[encoded data removed]",
      "text/plain": [
       "<Figure size 640x480 with 1 Axes>"
      ]
     },
     "metadata": {},
     "output_type": "display_data"
    }
   ],
   "source": [
    "# Create new column = tax + 2\n",
    "import matplotlib.pyplot as plt\n",
    "df['Gasoline_tax_increased'] = df['Gasoline_tax'] + 2\n",
    "\n",
    "\n",
    "def compute_consumption(x):\n",
    "    return intercept + coefficients[0] * x + coefficients[1] * df['Average_income'] + \\\n",
    "        coefficients[2] * df['Paved_highways'] + coefficients[3] * \\\n",
    "        df['Proportion_of_population_with_driver_licenses']\n",
    "\n",
    "\n",
    "# Plot y(..., tax, ...) and y(..., tax + 2, ...) points\n",
    "y_tax = compute_consumption(df['Gasoline_tax'])\n",
    "y_tax_increased = compute_consumption(df['Gasoline_tax_increased'])\n",
    "\n",
    "\n",
    "# plot the points with color labels\n",
    "plt.scatter(df['Gasoline_tax'], y_tax, label='Gasoline tax')\n",
    "plt.scatter(df['Gasoline_tax_increased'], y_tax_increased, label='Gasoline tax increased')\n",
    "plt.xlabel('Gasoline tax')\n",
    "plt.ylabel('Consumption of gasoline')\n",
    "plt.show()\n"
   ]
  },
  {
   "attachments": {},
   "cell_type": "markdown",
   "metadata": {},
   "source": [
    "<p style=\"color:red\">The plots above suggest that the orange group experiences a negative shift, indicating that an increase in taxes is associated with a decrease in consumption. <br/>This can also be inferred from the equation in the first question, which shows a negative value for the tax coefficient.</p>"
   ]
  }
 ],
 "metadata": {
  "kernelspec": {
   "display_name": "Python 3",
   "language": "python",
   "name": "python3"
  },
  "language_info": {
   "codemirror_mode": {
    "name": "ipython",
    "version": 3
   },
   "file_extension": ".py",
   "mimetype": "text/x-python",
   "name": "python",
   "nbconvert_exporter": "python",
   "pygments_lexer": "ipython3",
   "version": "3.11.2"
  },
  "orig_nbformat": 4
 },
 "nbformat": 4,
 "nbformat_minor": 2
}
