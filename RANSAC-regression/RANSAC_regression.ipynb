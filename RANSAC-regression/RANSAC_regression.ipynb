{
 "cells": [
  {
   "attachments": {},
   "cell_type": "markdown",
   "metadata": {},
   "source": [
    "> 20 points, 1 hour\n",
    "\n",
    "`63070501061 S.RAKNA`\n",
    "\n",
    "# RANSAC Regression\n",
    "Use RANSAC to find $a$, $b$, $c$ for the following dataset where points $(x_i, y_i)$ are discrete samples from a function $f(x) = ax^2 + bx + c$ with 2 outliers. \n",
    "\n",
    "- Hint: You should get $a$, $b$, and $c$ close to 2.2, 0.5, -4.5, respectively.\n"
   ]
  },
  {
   "cell_type": "code",
   "execution_count": 1,
   "metadata": {},
   "outputs": [],
   "source": [
    "import matplotlib.pyplot as plt\n",
    "import numpy as np\n",
    "import pandas as pd\n",
    "from sklearn import datasets\n",
    "from sklearn.linear_model import RANSACRegressor\n",
    "from sklearn.metrics import mean_squared_error, r2_score"
   ]
  },
  {
   "cell_type": "code",
   "execution_count": 2,
   "metadata": {},
   "outputs": [],
   "source": [
    "class Point:\n",
    "    def __init__(self, x, y):\n",
    "        self.x = x\n",
    "        self.y = y"
   ]
  },
  {
   "cell_type": "code",
   "execution_count": 3,
   "metadata": {},
   "outputs": [
    {
     "data": {
      "image/png": "[encoded data removed]",
      "text/plain": [
       "<Figure size 1000x600 with 1 Axes>"
      ]
     },
     "metadata": {},
     "output_type": "display_data"
    }
   ],
   "source": [
    "# Discrete sample points\n",
    "data = np.array([\n",
    "    Point(-8, 132),\n",
    "    Point(-7, 100),\n",
    "    Point(-6, 72),\n",
    "    Point(-5, 48),\n",
    "    Point(-4, 80),  # outlier\n",
    "    Point(-3, 14),\n",
    "    Point(-2, 3),\n",
    "    Point(-1, -3),\n",
    "    Point(0, -5),\n",
    "    Point(1, -2),\n",
    "    Point(2, -20),  # outlier\n",
    "    Point(3, 17),\n",
    "    Point(4, 33),\n",
    "    Point(5, 53),\n",
    "    Point(6, 78),\n",
    "    Point(7, 107),\n",
    "    Point(8, 140)\n",
    "])\n",
    "\n",
    "# Plot the data\n",
    "# show axis, grid, and light-blue dots\n",
    "plt.figure(figsize=(10, 6))\n",
    "plt.axis([-9, 9, -50, 150])\n",
    "plt.grid(True)\n",
    "plt.axhline(y=0, color='k')\n",
    "plt.axvline(x=0, color='k')\n",
    "# normal points: blue\n",
    "# outliers: red\n",
    "for point in data:\n",
    "    if point.x == -4 or point.x == 2:\n",
    "        plt.plot(point.x, point.y, 'ro')\n",
    "    else:\n",
    "        plt.plot(point.x, point.y, 'bo')\n"
   ]
  },
  {
   "cell_type": "code",
   "execution_count": 4,
   "metadata": {},
   "outputs": [],
   "source": [
    "# RANSAC\n",
    "\n",
    "# Convert data to numpy array\n",
    "X = np.array([point.x for point in data]).reshape(-1, 1)\n",
    "y = np.array([point.y for point in data]).reshape(-1, 1)"
   ]
  },
  {
   "cell_type": "code",
   "execution_count": 5,
   "metadata": {},
   "outputs": [],
   "source": [
    "class PolynomialRegression:\n",
    "    def __init__(self, degree):\n",
    "        self.degree = degree\n",
    "\n",
    "    def fit(self, X, y):\n",
    "        self.coef_ = np.polyfit(X[:, 0], y[:, 0], self.degree)\n",
    "\n",
    "    def predict(self, X):\n",
    "        y_pred = np.zeros((X.shape[0], 1))\n",
    "        for i in range(self.degree + 1):\n",
    "            y_pred += self.coef_[i] * X ** (self.degree - i)\n",
    "        return y_pred\n",
    "\n",
    "    def score(self, X, y):\n",
    "        y_pred = self.predict(X)\n",
    "        return r2_score(y, y_pred)\n",
    "\n",
    "    def get_params(self, deep=True):\n",
    "        return {'degree': self.degree}\n",
    "\n",
    "    def set_params(self, **parameters):\n",
    "        for parameter, value in parameters.items():\n",
    "            setattr(self, parameter, value)\n",
    "        return self\n"
   ]
  },
  {
   "cell_type": "code",
   "execution_count": 6,
   "metadata": {},
   "outputs": [],
   "source": [
    "def number_of_samples(p: float, e: float, s: int) -> int:\n",
    "    \"\"\"\n",
    "    Calculate the number of samples needed to achieve a certain probability\n",
    "    of success.\n",
    "    :param p: probability of success\n",
    "    :param e: acceptable error\n",
    "    :param s: number of samples in a single trial\n",
    "    :return: number of samples needed to achieve a certain probability\n",
    "    of success\n",
    "    \"\"\"\n",
    "    return int(np.log(1 - p) / np.log(1 - (1 - e) ** s))"
   ]
  },
  {
   "cell_type": "code",
   "execution_count": 7,
   "metadata": {},
   "outputs": [],
   "source": [
    "# RANSAC regression for ax^2 + bx + c\n",
    "ransac = RANSACRegressor(\n",
    "    base_estimator=PolynomialRegression(degree=2),\n",
    "    min_samples=number_of_samples(p=0.99, e=0.25, s=4),\n",
    "    max_trials=100,\n",
    "    residual_threshold=10,\n",
    ")"
   ]
  },
  {
   "cell_type": "code",
   "execution_count": 8,
   "metadata": {},
   "outputs": [
    {
     "name": "stderr",
     "output_type": "stream",
     "text": [
      "/Library/Frameworks/Python.framework/Versions/3.11/lib/python3.11/site-packages/sklearn/linear_model/_ransac.py:343: FutureWarning: `base_estimator` was renamed to `estimator` in version 1.1 and will be removed in 1.3.\n",
      "  warnings.warn(\n"
     ]
    },
    {
     "data": {
      "text/html": [
       "<style>#sk-container-id-1 {color: black;background-color: white;}#sk-container-id-1 pre{padding: 0;}#sk-container-id-1 div.sk-toggleable {background-color: white;}#sk-container-id-1 label.sk-toggleable__label {cursor: pointer;display: block;width: 100%;margin-bottom: 0;padding: 0.3em;box-sizing: border-box;text-align: center;}#sk-container-id-1 label.sk-toggleable__label-arrow:before {content: \"▸\";float: left;margin-right: 0.25em;color: #696969;}#sk-container-id-1 label.sk-toggleable__label-arrow:hover:before {color: black;}#sk-container-id-1 div.sk-estimator:hover label.sk-toggleable__label-arrow:before {color: black;}#sk-container-id-1 div.sk-toggleable__content {max-height: 0;max-width: 0;overflow: hidden;text-align: left;background-color: #f0f8ff;}#sk-container-id-1 div.sk-toggleable__content pre {margin: 0.2em;color: black;border-radius: 0.25em;background-color: #f0f8ff;}#sk-container-id-1 input.sk-toggleable__control:checked~div.sk-toggleable__content {max-height: 200px;max-width: 100%;overflow: auto;}#sk-container-id-1 input.sk-toggleable__control:checked~label.sk-toggleable__label-arrow:before {content: \"▾\";}#sk-container-id-1 div.sk-estimator input.sk-toggleable__control:checked~label.sk-toggleable__label {background-color: #d4ebff;}#sk-container-id-1 div.sk-label input.sk-toggleable__control:checked~label.sk-toggleable__label {background-color: #d4ebff;}#sk-container-id-1 input.sk-hidden--visually {border: 0;clip: rect(1px 1px 1px 1px);clip: rect(1px, 1px, 1px, 1px);height: 1px;margin: -1px;overflow: hidden;padding: 0;position: absolute;width: 1px;}#sk-container-id-1 div.sk-estimator {font-family: monospace;background-color: #f0f8ff;border: 1px dotted black;border-radius: 0.25em;box-sizing: border-box;margin-bottom: 0.5em;}#sk-container-id-1 div.sk-estimator:hover {background-color: #d4ebff;}#sk-container-id-1 div.sk-parallel-item::after {content: \"\";width: 100%;border-bottom: 1px solid gray;flex-grow: 1;}#sk-container-id-1 div.sk-label:hover label.sk-toggleable__label {background-color: #d4ebff;}#sk-container-id-1 div.sk-serial::before {content: \"\";position: absolute;border-left: 1px solid gray;box-sizing: border-box;top: 0;bottom: 0;left: 50%;z-index: 0;}#sk-container-id-1 div.sk-serial {display: flex;flex-direction: column;align-items: center;background-color: white;padding-right: 0.2em;padding-left: 0.2em;position: relative;}#sk-container-id-1 div.sk-item {position: relative;z-index: 1;}#sk-container-id-1 div.sk-parallel {display: flex;align-items: stretch;justify-content: center;background-color: white;position: relative;}#sk-container-id-1 div.sk-item::before, #sk-container-id-1 div.sk-parallel-item::before {content: \"\";position: absolute;border-left: 1px solid gray;box-sizing: border-box;top: 0;bottom: 0;left: 50%;z-index: -1;}#sk-container-id-1 div.sk-parallel-item {display: flex;flex-direction: column;z-index: 1;position: relative;background-color: white;}#sk-container-id-1 div.sk-parallel-item:first-child::after {align-self: flex-end;width: 50%;}#sk-container-id-1 div.sk-parallel-item:last-child::after {align-self: flex-start;width: 50%;}#sk-container-id-1 div.sk-parallel-item:only-child::after {width: 0;}#sk-container-id-1 div.sk-dashed-wrapped {border: 1px dashed gray;margin: 0 0.4em 0.5em 0.4em;box-sizing: border-box;padding-bottom: 0.4em;background-color: white;}#sk-container-id-1 div.sk-label label {font-family: monospace;font-weight: bold;display: inline-block;line-height: 1.2em;}#sk-container-id-1 div.sk-label-container {text-align: center;}#sk-container-id-1 div.sk-container {/* jupyter's `normalize.less` sets `[hidden] { display: none; }` but bootstrap.min.css set `[hidden] { display: none !important; }` so we also need the `!important` here to be able to override the default hidden behavior on the sphinx rendered scikit-learn.org. See: https://github.com/scikit-learn/scikit-learn/issues/21755 */display: inline-block !important;position: relative;}#sk-container-id-1 div.sk-text-repr-fallback {display: none;}</style><div id=\"sk-container-id-1\" class=\"sk-top-container\"><div class=\"sk-text-repr-fallback\"><pre>RANSACRegressor(base_estimator=&lt;__main__.PolynomialRegression object at 0x1473cf6d0&gt;,\n",
       "                estimator=&lt;__main__.PolynomialRegression object at 0x1473cf6d0&gt;,\n",
       "                min_samples=12, residual_threshold=10)</pre><b>In a Jupyter environment, please rerun this cell to show the HTML representation or trust the notebook. <br />On GitHub, the HTML representation is unable to render, please try loading this page with nbviewer.org.</b></div><div class=\"sk-container\" hidden><div class=\"sk-item sk-dashed-wrapped\"><div class=\"sk-label-container\"><div class=\"sk-label sk-toggleable\"><input class=\"sk-toggleable__control sk-hidden--visually\" id=\"sk-estimator-id-1\" type=\"checkbox\" ><label for=\"sk-estimator-id-1\" class=\"sk-toggleable__label sk-toggleable__label-arrow\">RANSACRegressor</label><div class=\"sk-toggleable__content\"><pre>RANSACRegressor(base_estimator=&lt;__main__.PolynomialRegression object at 0x1473cf6d0&gt;,\n",
       "                estimator=&lt;__main__.PolynomialRegression object at 0x1473cf6d0&gt;,\n",
       "                min_samples=12, residual_threshold=10)</pre></div></div></div><div class=\"sk-parallel\"><div class=\"sk-parallel-item\"><div class=\"sk-item\"><div class=\"sk-label-container\"><div class=\"sk-label sk-toggleable\"><input class=\"sk-toggleable__control sk-hidden--visually\" id=\"sk-estimator-id-2\" type=\"checkbox\" ><label for=\"sk-estimator-id-2\" class=\"sk-toggleable__label sk-toggleable__label-arrow\">base_estimator: PolynomialRegression</label><div class=\"sk-toggleable__content\"><pre>&lt;__main__.PolynomialRegression object at 0x1473cf6d0&gt;</pre></div></div></div><div class=\"sk-serial\"><div class=\"sk-item\"><div class=\"sk-estimator sk-toggleable\"><input class=\"sk-toggleable__control sk-hidden--visually\" id=\"sk-estimator-id-3\" type=\"checkbox\" ><label for=\"sk-estimator-id-3\" class=\"sk-toggleable__label sk-toggleable__label-arrow\">PolynomialRegression</label><div class=\"sk-toggleable__content\"><pre>&lt;__main__.PolynomialRegression object at 0x1473cf6d0&gt;</pre></div></div></div></div></div></div><div class=\"sk-parallel-item\"><div class=\"sk-item\"><div class=\"sk-label-container\"><div class=\"sk-label sk-toggleable\"><input class=\"sk-toggleable__control sk-hidden--visually\" id=\"sk-estimator-id-4\" type=\"checkbox\" ><label for=\"sk-estimator-id-4\" class=\"sk-toggleable__label sk-toggleable__label-arrow\">estimator: PolynomialRegression</label><div class=\"sk-toggleable__content\"><pre>&lt;__main__.PolynomialRegression object at 0x1473cf6d0&gt;</pre></div></div></div><div class=\"sk-serial\"><div class=\"sk-item\"><div class=\"sk-estimator sk-toggleable\"><input class=\"sk-toggleable__control sk-hidden--visually\" id=\"sk-estimator-id-5\" type=\"checkbox\" ><label for=\"sk-estimator-id-5\" class=\"sk-toggleable__label sk-toggleable__label-arrow\">PolynomialRegression</label><div class=\"sk-toggleable__content\"><pre>&lt;__main__.PolynomialRegression object at 0x1473cf6d0&gt;</pre></div></div></div></div></div></div></div></div></div></div>"
      ],
      "text/plain": [
       "RANSACRegressor(base_estimator=<__main__.PolynomialRegression object at 0x1473cf6d0>,\n",
       "                estimator=<__main__.PolynomialRegression object at 0x1473cf6d0>,\n",
       "                min_samples=12, residual_threshold=10)"
      ]
     },
     "execution_count": 8,
     "metadata": {},
     "output_type": "execute_result"
    }
   ],
   "source": [
    "ransac.fit(X, y)"
   ]
  },
  {
   "cell_type": "code",
   "execution_count": 9,
   "metadata": {},
   "outputs": [
    {
     "name": "stdout",
     "output_type": "stream",
     "text": [
      "Coefficients: \n",
      " [ 2.20168149  0.50465825 -4.55078223]\n",
      "Mean squared error: 192.67\n",
      "Coefficient of determination: 0.92\n"
     ]
    }
   ],
   "source": [
    "# Result\n",
    "print('Coefficients: \\n', ransac.estimator_.coef_)\n",
    "print('Mean squared error: %.2f'\n",
    "      % mean_squared_error(y, ransac.predict(X)))\n",
    "print('Coefficient of determination: %.2f'  \n",
    "      % r2_score(y, ransac.predict(X)))"
   ]
  },
  {
   "cell_type": "code",
   "execution_count": 10,
   "metadata": {},
   "outputs": [
    {
     "name": "stdout",
     "output_type": "stream",
     "text": [
      "Predicted y: [[ 1.69243494e+02]\n",
      " [ 1.65352950e+02]\n",
      " [ 1.61506440e+02]\n",
      " [ 1.57703963e+02]\n",
      " [ 1.53945520e+02]\n",
      " [ 1.50231110e+02]\n",
      " [ 1.46560734e+02]\n",
      " [ 1.42934392e+02]\n",
      " [ 1.39352083e+02]\n",
      " [ 1.35813808e+02]\n",
      " [ 1.32319567e+02]\n",
      " [ 1.28869359e+02]\n",
      " [ 1.25463185e+02]\n",
      " [ 1.22101045e+02]\n",
      " [ 1.18782938e+02]\n",
      " [ 1.15508865e+02]\n",
      " [ 1.12278825e+02]\n",
      " [ 1.09092819e+02]\n",
      " [ 1.05950847e+02]\n",
      " [ 1.02852908e+02]\n",
      " [ 9.97990029e+01]\n",
      " [ 9.67891314e+01]\n",
      " [ 9.38232936e+01]\n",
      " [ 9.09014894e+01]\n",
      " [ 8.80237189e+01]\n",
      " [ 8.51899820e+01]\n",
      " [ 8.24002787e+01]\n",
      " [ 7.96546090e+01]\n",
      " [ 7.69529730e+01]\n",
      " [ 7.42953706e+01]\n",
      " [ 7.16818018e+01]\n",
      " [ 6.91122667e+01]\n",
      " [ 6.65867651e+01]\n",
      " [ 6.41052973e+01]\n",
      " [ 6.16678630e+01]\n",
      " [ 5.92744624e+01]\n",
      " [ 5.69250954e+01]\n",
      " [ 5.46197620e+01]\n",
      " [ 5.23584623e+01]\n",
      " [ 5.01411962e+01]\n",
      " [ 4.79679637e+01]\n",
      " [ 4.58387648e+01]\n",
      " [ 4.37535996e+01]\n",
      " [ 4.17124680e+01]\n",
      " [ 3.97153701e+01]\n",
      " [ 3.77623058e+01]\n",
      " [ 3.58532751e+01]\n",
      " [ 3.39882780e+01]\n",
      " [ 3.21673145e+01]\n",
      " [ 3.03903847e+01]\n",
      " [ 2.86574886e+01]\n",
      " [ 2.69686260e+01]\n",
      " [ 2.53237971e+01]\n",
      " [ 2.37230018e+01]\n",
      " [ 2.21662401e+01]\n",
      " [ 2.06535121e+01]\n",
      " [ 1.91848177e+01]\n",
      " [ 1.77601569e+01]\n",
      " [ 1.63795298e+01]\n",
      " [ 1.50429363e+01]\n",
      " [ 1.37503764e+01]\n",
      " [ 1.25018501e+01]\n",
      " [ 1.12973575e+01]\n",
      " [ 1.01368985e+01]\n",
      " [ 9.02047317e+00]\n",
      " [ 7.94808144e+00]\n",
      " [ 6.91972333e+00]\n",
      " [ 5.93539886e+00]\n",
      " [ 4.99510802e+00]\n",
      " [ 4.09885080e+00]\n",
      " [ 3.24662722e+00]\n",
      " [ 2.43843726e+00]\n",
      " [ 1.67428094e+00]\n",
      " [ 9.54158241e-01]\n",
      " [ 2.78069176e-01]\n",
      " [-3.53986260e-01]\n",
      " [-9.42008066e-01]\n",
      " [-1.48599624e+00]\n",
      " [-1.98595079e+00]\n",
      " [-2.44187171e+00]\n",
      " [-2.85375899e+00]\n",
      " [-3.22161265e+00]\n",
      " [-3.54543268e+00]\n",
      " [-3.82521908e+00]\n",
      " [-4.06097185e+00]\n",
      " [-4.25269098e+00]\n",
      " [-4.40037649e+00]\n",
      " [-4.50402837e+00]\n",
      " [-4.56364662e+00]\n",
      " [-4.57923124e+00]\n",
      " [-4.55078223e+00]\n",
      " [-4.47829959e+00]\n",
      " [-4.36178332e+00]\n",
      " [-4.20123342e+00]\n",
      " [-3.99664989e+00]\n",
      " [-3.74803273e+00]\n",
      " [-3.45538194e+00]\n",
      " [-3.11869753e+00]\n",
      " [-2.73797948e+00]\n",
      " [-2.31322780e+00]\n",
      " [-1.84444249e+00]\n",
      " [-1.33162356e+00]\n",
      " [-7.74770988e-01]\n",
      " [-1.73884792e-01]\n",
      " [ 4.71035035e-01]\n",
      " [ 1.15998849e+00]\n",
      " [ 1.89297558e+00]\n",
      " [ 2.66999629e+00]\n",
      " [ 3.49105064e+00]\n",
      " [ 4.35613861e+00]\n",
      " [ 5.26526022e+00]\n",
      " [ 6.21841545e+00]\n",
      " [ 7.21560432e+00]\n",
      " [ 8.25682681e+00]\n",
      " [ 9.34208294e+00]\n",
      " [ 1.04713727e+01]\n",
      " [ 1.16446961e+01]\n",
      " [ 1.28620531e+01]\n",
      " [ 1.41234437e+01]\n",
      " [ 1.54288680e+01]\n",
      " [ 1.67783259e+01]\n",
      " [ 1.81718174e+01]\n",
      " [ 1.96093426e+01]\n",
      " [ 2.10909014e+01]\n",
      " [ 2.26164938e+01]\n",
      " [ 2.41861199e+01]\n",
      " [ 2.57997795e+01]\n",
      " [ 2.74574729e+01]\n",
      " [ 2.91591998e+01]\n",
      " [ 3.09049604e+01]\n",
      " [ 3.26947546e+01]\n",
      " [ 3.45285824e+01]\n",
      " [ 3.64064439e+01]\n",
      " [ 3.83283389e+01]\n",
      " [ 4.02942677e+01]\n",
      " [ 4.23042300e+01]\n",
      " [ 4.43582260e+01]\n",
      " [ 4.64562556e+01]\n",
      " [ 4.85983188e+01]\n",
      " [ 5.07844157e+01]\n",
      " [ 5.30145462e+01]\n",
      " [ 5.52887103e+01]\n",
      " [ 5.76069081e+01]\n",
      " [ 5.99691395e+01]\n",
      " [ 6.23754045e+01]\n",
      " [ 6.48257031e+01]\n",
      " [ 6.73200354e+01]\n",
      " [ 6.98584013e+01]\n",
      " [ 7.24408008e+01]\n",
      " [ 7.50672340e+01]\n",
      " [ 7.77377008e+01]\n",
      " [ 8.04522012e+01]\n",
      " [ 8.32107353e+01]\n",
      " [ 8.60133030e+01]\n",
      " [ 8.88599043e+01]\n",
      " [ 9.17505392e+01]\n",
      " [ 9.46852078e+01]\n",
      " [ 9.76639100e+01]\n",
      " [ 1.00686646e+02]\n",
      " [ 1.03753415e+02]\n",
      " [ 1.06864218e+02]\n",
      " [ 1.10019055e+02]\n",
      " [ 1.13217925e+02]\n",
      " [ 1.16460829e+02]\n",
      " [ 1.19747767e+02]\n",
      " [ 1.23078738e+02]\n",
      " [ 1.26453743e+02]\n",
      " [ 1.29872782e+02]\n",
      " [ 1.33335854e+02]\n",
      " [ 1.36842960e+02]\n",
      " [ 1.40394099e+02]\n",
      " [ 1.43989272e+02]\n",
      " [ 1.47628479e+02]\n",
      " [ 1.51311719e+02]\n",
      " [ 1.55038993e+02]\n",
      " [ 1.58810300e+02]\n",
      " [ 1.62625642e+02]\n",
      " [ 1.66485016e+02]\n",
      " [ 1.70388425e+02]\n",
      " [ 1.74335867e+02]]\n"
     ]
    }
   ],
   "source": [
    "# Inliers and outliers\n",
    "inlier_mask = ransac.inlier_mask_\n",
    "outlier_mask = np.logical_not(inlier_mask)\n",
    "\n",
    "# Predict data of estimated models and print the result\n",
    "line_X = np.arange(-9, 9, 0.1).reshape(-1, 1)\n",
    "line_y_ransac = ransac.predict(line_X)\n",
    "\n",
    "# Print the result\n",
    "print(f\"Predicted y: {line_y_ransac}\")"
   ]
  },
  {
   "cell_type": "code",
   "execution_count": 11,
   "metadata": {},
   "outputs": [],
   "source": [
    "a, b, c = ransac.estimator_.coef_[0], \\\n",
    "    ransac.estimator_.coef_[1], \\\n",
    "    ransac.estimator_.coef_[2]"
   ]
  },
  {
   "cell_type": "code",
   "execution_count": 12,
   "metadata": {},
   "outputs": [
    {
     "data": {
      "image/png": "[encoded data removed]",
      "text/plain": [
       "<Figure size 1000x600 with 1 Axes>"
      ]
     },
     "metadata": {},
     "output_type": "display_data"
    }
   ],
   "source": [
    "plt.figure(figsize=(10, 6))\n",
    "plt.axis([-9, 9, -50, 150])\n",
    "plt.grid(True)\n",
    "plt.axhline(y=0, color='k')\n",
    "plt.axvline(x=0, color='k')\n",
    "plt.plot(X[inlier_mask], y[inlier_mask], 'bo', label='Inliers')\n",
    "plt.plot(X[outlier_mask], y[outlier_mask], 'ro', label='Outliers')\n",
    "plt.plot(line_X, line_y_ransac, 'g-', label='RANSAC regressor')\n",
    "plt.legend(loc='lower right')\n",
    "plt.title(f\"y = {a:.2f}x^2 + {b:.2f}x + {c:.2f}\")\n",
    "plt.show()\n"
   ]
  },
  {
   "cell_type": "code",
   "execution_count": 13,
   "metadata": {},
   "outputs": [
    {
     "name": "stdout",
     "output_type": "stream",
     "text": [
      "Estimated coefficients: a, b, c = 2.20, 0.50, -4.55\n",
      "Coefficient of determination: 0.92\n"
     ]
    }
   ],
   "source": [
    "# Summary\n",
    "# Coefficients:\n",
    "print(f\"Estimated coefficients: a, b, c = {a:.2f}, {b:.2f}, {c:.2f}\")\n",
    "# Coefficient of determination:\n",
    "print(f\"Coefficient of determination: {r2_score(y, ransac.predict(X)):.2f}\")"
   ]
  }
 ],
 "metadata": {
  "kernelspec": {
   "display_name": "Python 3",
   "language": "python",
   "name": "python3"
  },
  "language_info": {
   "codemirror_mode": {
    "name": "ipython",
    "version": 3
   },
   "file_extension": ".py",
   "mimetype": "text/x-python",
   "name": "python",
   "nbconvert_exporter": "python",
   "pygments_lexer": "ipython3",
   "version": "3.11.2"
  },
  "orig_nbformat": 4
 },
 "nbformat": 4,
 "nbformat_minor": 2
}
