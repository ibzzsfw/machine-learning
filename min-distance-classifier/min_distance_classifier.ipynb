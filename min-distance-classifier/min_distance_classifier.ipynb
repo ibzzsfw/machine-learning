{
  "cells": [
    {
      "cell_type": "markdown",
      "metadata": {
        "id": "68kJ6UrADURV"
      },
      "source": [
        "`63070501061 S.RAKNA`\n",
        "\n",
        "> 1.5 hr.\n",
        "\n",
        "# Min Distance classifier on 3 Gaussian Classes\n",
        "Modify your **KNN program from quiz 1 with 3 classes** to create 50 random points for each class: red, blue, and yellow from a 2D Gaussian distribution (see *Gaussian Data.ipynb*) with \n",
        "- means: `(20, 30), (40, 40), (50, 40`) \n",
        "- and `(s_x, s_y)` of `(3, 10), (10, 10), (15, 15)`, for *red*, *blue*, and *yellow*, respectively. \n",
        "- Use **70%** of the dataset as training data and **30%** as testing data."
      ]
    },
    {
      "cell_type": "markdown",
      "metadata": {
        "id": "pdu06jqUDURZ"
      },
      "source": [
        "> 5 pts. \n",
        "\n",
        "<h4>Plot the 3 classes using the training data.</h4>"
      ]
    },
    {
      "cell_type": "code",
      "execution_count": 1,
      "metadata": {},
      "outputs": [],
      "source": [
        "import cv2 as cv\n",
        "import matplotlib.pyplot as plt\n",
        "import numpy as np"
      ]
    },
    {
      "cell_type": "code",
      "execution_count": 2,
      "metadata": {
        "id": "fywKUvIUDURb"
      },
      "outputs": [],
      "source": [
        "np.random.seed(19680801)\n",
        "\n",
        "DATA = {\n",
        "    'red': {\n",
        "        'mean': {\n",
        "            'x': 20,\n",
        "            'y': 30\n",
        "        },\n",
        "        'std': {\n",
        "            'x': 3,\n",
        "            'y': 10\n",
        "        }\n",
        "    },\n",
        "    'blue': {\n",
        "        'mean': {\n",
        "            'x': 40,\n",
        "            'y': 40\n",
        "        },\n",
        "        'std': {\n",
        "            'x': 10,\n",
        "            'y': 10\n",
        "        }\n",
        "    },\n",
        "    'yellow': {\n",
        "        'mean': {\n",
        "            'x': 50,\n",
        "            'y': 40\n",
        "        },\n",
        "        'std': {\n",
        "            'x': 15,\n",
        "            'y': 15\n",
        "        }\n",
        "    }\n",
        "}\n",
        "\n",
        "POINTS = 50\n",
        "TRAIN = 0.7\n",
        "TEST = 1 - TRAIN\n",
        "\n",
        "MIN = 0\n",
        "MAX = 100"
      ]
    },
    {
      "cell_type": "code",
      "execution_count": 3,
      "metadata": {
        "id": "93wSNIzsDURc"
      },
      "outputs": [],
      "source": [
        "# create training data from 2-d gaussian distributions\n",
        "def generate_data(number, data):\n",
        "    # return [[x: float, y: float, label: str], ...]\n",
        "    points = np.array([], dtype=object)  # [[x, y], [x, y], ...]: np.float32\n",
        "    labels = np.array([])  # [label, label, ...]\n",
        "    for label, values in data.items():\n",
        "        mean = np.array([values['mean']['x'], values['mean']['y']])\n",
        "        std = np.array([values['std']['x'], values['std']['y']])\n",
        "        # point: multivariate normal distribution\n",
        "        point = np.random.multivariate_normal(mean, np.diag(std), number)\n",
        "        if len(points) == 0:\n",
        "            points = point\n",
        "        else:\n",
        "            points = np.append(points, point, axis=0)\n",
        "        labels = np.append(labels, np.array([label] * number))\n",
        "    # zipping\n",
        "    return np.array(list(zip(points, labels)), dtype=object)"
      ]
    },
    {
      "cell_type": "code",
      "execution_count": 4,
      "metadata": {
        "colab": {
          "base_uri": "https://localhost:8080/"
        },
        "id": "MpVJRkowDURc",
        "outputId": "1ecd909b-1877-48f7-cf1b-d62da05dccd8"
      },
      "outputs": [
        {
          "name": "stdout",
          "output_type": "stream",
          "text": [
            "[[array([21.50012777, 33.31819158]) 'red']\n",
            " [array([22.99311853, 31.74284063]) 'red']\n",
            " [array([19.17135299, 27.94677069]) 'red']\n",
            " [array([21.67802872, 33.40857199]) 'red']\n",
            " [array([17.8567792 , 27.44062704]) 'red']]\n"
          ]
        }
      ],
      "source": [
        "raw_data = generate_data(POINTS, DATA)\n",
        "print(raw_data[:5])"
      ]
    },
    {
      "cell_type": "code",
      "execution_count": 5,
      "metadata": {
        "id": "AtQXW7HWDURd"
      },
      "outputs": [],
      "source": [
        "# random split into training and test data: train 70%, test 30%\n",
        "np.random.shuffle(raw_data)\n",
        "train_data = raw_data[int(POINTS * TRAIN):]\n",
        "test_data = raw_data[:int(POINTS * TRAIN)]\n"
      ]
    },
    {
      "cell_type": "code",
      "execution_count": 6,
      "metadata": {
        "id": "cKdo-cMPDURd"
      },
      "outputs": [],
      "source": [
        "def plot_data(data):\n",
        "    colors = {'red': 'r', 'blue': 'b', 'yellow': 'y'}\n",
        "    for point, label in data:\n",
        "        plt.scatter(point[0], point[1], c=colors[label])\n",
        "    plt.show()"
      ]
    },
    {
      "cell_type": "code",
      "execution_count": 7,
      "metadata": {
        "colab": {
          "base_uri": "https://localhost:8080/",
          "height": 265
        },
        "id": "lkUxzbWxDURd",
        "outputId": "257ce9b6-5b95-4501-9cf6-4ee95303bf4a"
      },
      "outputs": [
        {
          "data": {
            "image/png": "[encoded data removed]",
            "text/plain": [
              "<Figure size 640x480 with 1 Axes>"
            ]
          },
          "metadata": {},
          "output_type": "display_data"
        }
      ],
      "source": [
        "plot_data(train_data)"
      ]
    },
    {
      "cell_type": "markdown",
      "metadata": {
        "id": "kzGotMHXDURe"
      },
      "source": [
        "> 5 pts. \n",
        "\n",
        "Using `KNN with K = 5`, report the total accuracy of the testing data."
      ]
    },
    {
      "cell_type": "markdown",
      "metadata": {
        "id": "SLggjWErDURe"
      },
      "source": []
    },
    {
      "cell_type": "code",
      "execution_count": 8,
      "metadata": {
        "colab": {
          "base_uri": "https://localhost:8080/",
          "height": 265
        },
        "id": "nisMM5OsDURe",
        "outputId": "7874a897-69fd-4d40-8482-9d8be6465a79"
      },
      "outputs": [
        {
          "data": {
            "image/png": "[encoded data removed]",
            "text/plain": [
              "<Figure size 640x480 with 1 Axes>"
            ]
          },
          "metadata": {},
          "output_type": "display_data"
        }
      ],
      "source": [
        "# PLOT using color map\n",
        "plot_data(test_data)"
      ]
    },
    {
      "cell_type": "code",
      "execution_count": 9,
      "metadata": {
        "colab": {
          "base_uri": "https://localhost:8080/"
        },
        "id": "RuQFHD4nDURf",
        "outputId": "84e7af89-52c7-4f6a-af1d-e4a7265f247e"
      },
      "outputs": [
        {
          "data": {
            "text/plain": [
              "True"
            ]
          },
          "execution_count": 9,
          "metadata": {},
          "output_type": "execute_result"
        }
      ],
      "source": [
        "# create classifier\n",
        "knn = cv.ml.KNearest_create()\n",
        "# numberize labels\n",
        "label_map = {'red': 0, 'blue': 1, 'yellow': 2}\n",
        "train_labels = [label_map[label] for point, label in train_data]\n",
        "# train classifier\n",
        "points, labels = np.array(\n",
        "    [point for point, label in train_data]), np.array(train_labels)\n",
        "# convert type to compatible with knn.train\n",
        "points, labels = points.astype(np.float32), labels.astype(np.float32)\n",
        "knn.train(points, cv.ml.ROW_SAMPLE, labels)\n"
      ]
    },
    {
      "cell_type": "code",
      "execution_count": 10,
      "metadata": {
        "colab": {
          "base_uri": "https://localhost:8080/"
        },
        "id": "5-eEJs1xDURf",
        "outputId": "217544af-24a9-453b-cbb7-7974e45ac4ba"
      },
      "outputs": [
        {
          "name": "stdout",
          "output_type": "stream",
          "text": [
            "Accuracy:  0.9826086956521739\n"
          ]
        }
      ],
      "source": [
        "# test classifier\n",
        "K = 5\n",
        "#  find the K nearest neighbors\n",
        "ret, results, neighbours, dist = knn.findNearest(points, K)\n",
        "#  get the most common class label\n",
        "correct = 0\n",
        "for i, result in enumerate(results):\n",
        "    label = label_map[train_data[i][1]]\n",
        "    if result == label:\n",
        "        correct += 1\n",
        "print('Accuracy: ', correct / len(results))"
      ]
    },
    {
      "cell_type": "markdown",
      "metadata": {
        "id": "Ur_DLPkYDURf"
      },
      "source": [
        "### Using the minimum distance classifier:"
      ]
    },
    {
      "cell_type": "markdown",
      "metadata": {
        "id": "xfs81sxyDURg"
      },
      "source": [
        "> 5 pts\n",
        "\n",
        "Report the training data cluster mean for each class of `red`, `blue`, and `yellow`."
      ]
    },
    {
      "cell_type": "code",
      "execution_count": 11,
      "metadata": {
        "colab": {
          "base_uri": "https://localhost:8080/"
        },
        "id": "UCanqIJbDURg",
        "outputId": "8c734380-febd-44f2-8aa3-ebbff55d6bd6"
      },
      "outputs": [
        {
          "name": "stdout",
          "output_type": "stream",
          "text": [
            "blue: [37.27737008 36.25270523]\n",
            "red: [38.79010045 36.74945932]\n",
            "yellow: [33.41348564 35.45942924]\n"
          ]
        }
      ],
      "source": [
        "# Report the training data cluster mean for each class of `red`, `blue`, and `yellow`.\n",
        "unique_labels, label_indices, label_counts = np.unique(\n",
        "    train_data[:, 1], return_inverse=True, return_counts=True)\n",
        "points_by_label = np.split(train_data[:, 0], np.cumsum(label_counts[:-1]))\n",
        "means = [np.mean(points, axis=0) for points in points_by_label]\n",
        "for label, mean in zip(unique_labels, means):\n",
        "    print(f'{label}: {mean}')\n"
      ]
    },
    {
      "cell_type": "markdown",
      "metadata": {
        "id": "94CZyGrDDURg"
      },
      "source": [
        "> 5 pts\n",
        "\n",
        "Report the total accuracy of the testing data using this classifier."
      ]
    },
    {
      "cell_type": "code",
      "execution_count": 12,
      "metadata": {
        "id": "Y-6leRvADURg"
      },
      "outputs": [],
      "source": [
        "# Report the total accuracy of the testing data using minimum distance classifier.\n",
        "def min_distance_classifier(point, means):\n",
        "    # return label\n",
        "    label_map = {'red': 0, 'blue': 1, 'yellow': 2}\n",
        "    labels = list(label_map.keys())\n",
        "    distances = [np.linalg.norm(point - mean) for mean in means]\n",
        "    return labels[np.argmin(distances)]\n"
      ]
    },
    {
      "cell_type": "markdown",
      "metadata": {
        "id": "zwZNKrVgDURh"
      },
      "source": []
    },
    {
      "cell_type": "code",
      "execution_count": 13,
      "metadata": {
        "colab": {
          "base_uri": "https://localhost:8080/"
        },
        "id": "6aZ76tmmDURh",
        "outputId": "1e0b3334-7ee4-4535-f105-c7b0634ced19"
      },
      "outputs": [
        {
          "name": "stdout",
          "output_type": "stream",
          "text": [
            "Accuracy:  0.4\n"
          ]
        }
      ],
      "source": [
        "# test classifier\n",
        "correct = 0\n",
        "for point, label in test_data:\n",
        "    if min_distance_classifier(point, means) == label:\n",
        "        correct += 1\n",
        "print('Accuracy: ', correct / len(test_data))"
      ]
    }
  ],
  "metadata": {
    "colab": {
      "provenance": []
    },
    "kernelspec": {
      "display_name": "Python 3 (ipykernel)",
      "language": "python",
      "name": "python3"
    },
    "language_info": {
      "codemirror_mode": {
        "name": "ipython",
        "version": 3
      },
      "file_extension": ".py",
      "mimetype": "text/x-python",
      "name": "python",
      "nbconvert_exporter": "python",
      "pygments_lexer": "ipython3",
      "version": "3.11.2"
    },
    "vscode": {
      "interpreter": {
        "hash": "333d2c9757a75282c9d4867cccb346dd97fbdd6438562bec117fa31e687fe23c"
      }
    }
  },
  "nbformat": 4,
  "nbformat_minor": 0
}
